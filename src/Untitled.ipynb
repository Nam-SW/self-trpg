{
 "cells": [
  {
   "cell_type": "code",
   "execution_count": 1,
   "id": "87d78ec0-5ae4-4ab2-b260-3cc8b29fe6d8",
   "metadata": {},
   "outputs": [],
   "source": [
    "from hydra import compose, initialize\n",
    "\n",
    "with initialize(version_base=\"1.2\", config_path=\"../config/\"):\n",
    "    cfg = compose(config_name=\"config\")"
   ]
  },
  {
   "cell_type": "code",
   "execution_count": 28,
   "id": "cd404fea-470d-4cda-a9d0-ff12594c0dab",
   "metadata": {},
   "outputs": [],
   "source": [
    "import time\n",
    "\n",
    "from langchain_core.output_parsers import StrOutputParser\n",
    "from langchain_core.prompts import PromptTemplate, ChatPromptTemplate, MessagesPlaceholder\n",
    "\n",
    "from agents.agent import get_agent\n",
    "\n",
    "\n",
    "\n",
    "sytem_prompt = \"\"\"당신은 유저가 모험할 세계의 기본적인 세계관을 정하는 각본가입니다.\n",
    "하나의 거대한 테마와 유저가 원하는 키워드를 입력받아 세계관을 작성합니다.\n",
    "작성하는 문체는 간결하고 정보 전달만을 목적으로 함을 생각하며 작성해야 합니다.\n",
    "세계관의 대략적인 지형 및 지리 설명, 세력관계, 핵심 인물, 주요 흐름 등을 작성해야 합니다.\n",
    "단, 플레이할 스토리의 다양성을 위해 전개 방향은 작성하지 않습니다.\"\"\"\n",
    "user_template = \"세계관 테마 키워드: {theme}\\n서브 스토리라인 키워드: {keywords}\"\n",
    "\n",
    "\n",
    "prompt_template = PromptTemplate.from_template(sytem_prompt + \"\\n\\n\" + user_template)\n",
    "chat_template = ChatPromptTemplate.from_messages(\n",
    "    [\n",
    "        ('system', sytem_prompt),\n",
    "        MessagesPlaceholder(variable_name=\"chat_history\"),\n",
    "        ('user', user_template),\n",
    "    ]\n",
    ")\n",
    "\n",
    "model = get_agent()\n",
    "parser = StrOutputParser()\n",
    "\n",
    "prompt_chain = prompt_template | model | parser\n",
    "chat_chain = chat_template | model | parser"
   ]
  },
  {
   "cell_type": "code",
   "execution_count": 26,
   "id": "58343cc1-7866-4115-bcdf-1a15909efee6",
   "metadata": {},
   "outputs": [
    {
     "name": "stdout",
     "output_type": "stream",
     "text": [
      "### 세계관: 핵전쟁 포스트 아포칼립스\n",
      "\n",
      "**지형 및 지리 설명:**\n",
      "전 세계가 핵전쟁으로 인해 황폐화되었으며, 방사능으로 오염된 지역이 널리 퍼져 있다. 대도시들은 잔해로 변했으며, 그 주변은 방사능 지대가 형성되어 접근이 매우 위험하다. 생존자들은 주로 방사능이 비교적 적은 외곽 지역이나 숲, 산악 지대에 거주하며, 이곳에서도 생존은 극도로 어려운 상태다. 몇몇 쉘터는 지하에 위치하고 있어 방사능으로부터 비교적 안전한 환경을 제공한다.\n",
      "\n",
      "**세력관계:**\n",
      "1. **생존자 세력:** 전후 생존자들이 모여 형성된 소규모 공동체들로, 각기 다른 리더와 목적을 가지고 있다. 자원을 놓고 때때로 충돌하기도 하지만, 생존을 위해 협력하기도 한다.\n",
      "2. **무법자:** 법과 질서가 사라진 세상에서 무법자들은 폭력과 약탈을 일삼으며 생존자들을 위협한다. 이들은 이동하면서 약탈을 일삼고, 생존자 세력에 큰 위협이 된다.\n",
      "3. **돌연변이:** 방사능에 의해 변형된 생명체들로, 인간뿐만 아니라 동물과 식물도 포함된다. 이들은 예측할 수 없는 행동과 위험한 능력을 가지고 있어 생존자들의 경계 대상이다.\n",
      "4. **쉘터 거주자:** 핵전쟁 이전부터 준비된 쉘터에 거주하는 사람들로, 상대적으로 안전하고 자원이 풍부하다. 그러나 외부와의 접촉을 두려워하며, 쉘터 내부에서도 계층 갈등이 존재한다.\n",
      "\n",
      "**핵심 인물:**\n",
      "1. **리나 (Lina):** 생존자 세력의 젊은 리더로, 공동체를 보호하고 자원을 확보하기 위해 헌신하고 있다. 현명하고 결단력 있는 인물로, 다양한 생존 전략을 고안해낸다.\n",
      "2. **잭 (Jack):** 무법자 집단의 두목으로, 잔인하고 교활한 성격을 지니고 있다. 자원을 확보하기 위해 생존자 세력을 끊임없이 공격하며, 자신의 세력을 확장하고자 한다.\n",
      "3. **닥터 에밀리 (Dr. Emily):** 쉘터의 의사이자 생물학자로, 돌연변이 연구에 몰두하고 있다. 돌연변이의 원인과 치료법을 찾기 위해 쉘터 밖으로 나가기도 하며, 종종 생존자들과 접촉한다.\n",
      "4. **루크 (Luke):** 전 군인 출신의 생존자로, 생존자 세력과 무법자 모두에게 존경받는 인물이다. 방사능 지대에서 생존하는 법을 알고 있으며, 필요한 경우 전투에도 능하다.\n",
      "\n",
      "**주요 흐름:**\n",
      "- 생존자 세력은 자원을 확보하고 무법자와의 충돌을 피하거나 대처해야 한다.\n",
      "- 무법자는 쉘터의 존재를 알게 되며, 이를 탈취하려는 계획을 세운다.\n",
      "- 돌연변이의 위협이 점점 커지며, 생존자와 무법자 모두에게 큰 위협이 된다.\n",
      "- 쉘터 내부에서는 계층 간 갈등이 심화되며, 외부 생존자들과의 접촉이 불가피해진다.\n",
      "- 닥터 에밀리는 돌연변이의 원인과 치료법을 찾기 위해 생존자들과 협력하게 된다."
     ]
    }
   ],
   "source": [
    "gen = prompt_chain.stream({\"theme\": \"핵전쟁 포스트 아포칼립스\", \"keywords\": \"전후 생존자, 무법자, 방사능 지대, 돌연변이, 생존자 세력, 쉘터\"})\n",
    "\n",
    "response = \"\"\n",
    "for chunk in gen:\n",
    "    print(chunk, end=\"\")\n",
    "    response += chunk\n",
    "    time.sleep(0.02)"
   ]
  },
  {
   "cell_type": "code",
   "execution_count": 1,
   "id": "b1eefb31-7a86-48e1-a2be-62d0e2622af1",
   "metadata": {},
   "outputs": [],
   "source": [
    "from agents.agent import MultiTernChain\n",
    "\n",
    "\n",
    "chain = MultiTernChain(\"당신은 친절한 챗봇입니다. 사용자의 질문에 친절히 답해주세요.\")\n",
    "chain.set_system_prompt()"
   ]
  },
  {
   "cell_type": "code",
   "execution_count": null,
   "id": "af719159-9627-49c6-aafb-8b27642d3b15",
   "metadata": {},
   "outputs": [],
   "source": [
    "while True:\n",
    "    for chunk in chain.get_answer_stream(input(\"입력: \")):\n",
    "        print(chunk, end=\"\")"
   ]
  },
  {
   "cell_type": "code",
   "execution_count": 3,
   "id": "53adb669-582d-47d6-a37e-6061fdac01e6",
   "metadata": {},
   "outputs": [
    {
     "name": "stdout",
     "output_type": "stream",
     "text": [
      "라면도 훌륭한 선택이에요! 빠르고 간편하게 준비할 수 있고, 다양한 토핑과 함께 즐길 수 있어 맛도 풍부하죠. 몇 가지 추천드릴게요:\n",
      "\n",
      "1. **기본 라면**: 김치와 함께 먹으면 더욱 맛있어요.\n",
      "2. **해물 라면**: 새우, 홍합 등을 넣어 해물의 풍미를 더해보세요.\n",
      "3. **치즈 라면**: 라면이 끓기 직전에 치즈를 넣어 고소함을 더해보세요.\n",
      "4. **떡라면**: 떡을 넣어 쫄깃한 식감을 즐길 수 있어요.\n",
      "5. **야채 라면**: 다양한 야채를 넣어 건강하게 즐길 수 있어요.\n",
      "\n",
      "라면을 선택하신다면, 어떤 스타일로 드시고 싶으신가요?\n"
     ]
    }
   ],
   "source": [
    "print(chain.get_answer(\"라면은 어때?\"))"
   ]
  },
  {
   "cell_type": "code",
   "execution_count": 4,
   "id": "a038e7bf-60aa-4a9a-995e-875bd71b4ab5",
   "metadata": {},
   "outputs": [
    {
     "data": {
      "text/plain": [
       "['유저: 점심메뉴로 뭐가 좋을까?',\n",
       " '이야기꾼: 점심 메뉴 선택은 기분과 식사 취향에 따라 달라질 수 있어요! 몇 가지 추천드릴게요:\\n\\n1. **한식**: 비빔밥, 김치찌개, 불고기\\n2. **일식**: 스시, 라멘, 덮밥\\n3. **양식**: 파스타, 피자, 스테이크\\n4. **중식**: 짜장면, 짬뽕, 탕수육\\n5. **간단한 메뉴**: 샌드위치, 샐러드, 햄버거\\n\\n어떤 메뉴가 마음에 드세요?',\n",
       " '유저: 라면은 어때?',\n",
       " '이야기꾼: 라면도 훌륭한 선택이에요! 빠르고 간편하게 준비할 수 있고, 다양한 토핑과 함께 즐길 수 있어 맛도 풍부하죠. 몇 가지 추천드릴게요:\\n\\n1. **기본 라면**: 김치와 함께 먹으면 더욱 맛있어요.\\n2. **해물 라면**: 새우, 홍합 등을 넣어 해물의 풍미를 더해보세요.\\n3. **치즈 라면**: 라면이 끓기 직전에 치즈를 넣어 고소함을 더해보세요.\\n4. **떡라면**: 떡을 넣어 쫄깃한 식감을 즐길 수 있어요.\\n5. **야채 라면**: 다양한 야채를 넣어 건강하게 즐길 수 있어요.\\n\\n라면을 선택하신다면, 어떤 스타일로 드시고 싶으신가요?']"
      ]
     },
     "execution_count": 4,
     "metadata": {},
     "output_type": "execute_result"
    }
   ],
   "source": [
    "chain.chat_history"
   ]
  },
  {
   "cell_type": "code",
   "execution_count": 5,
   "id": "e4d2a24f-b029-44de-b69a-9048e1457b5a",
   "metadata": {},
   "outputs": [],
   "source": [
    "from langchain_core.messages import AIMessage, HumanMessage\n",
    "\n",
    "a = AIMessage(content='a')\n",
    "b = HumanMessage(content='b')"
   ]
  },
  {
   "cell_type": "code",
   "execution_count": 14,
   "id": "53a21123-e588-46a5-9028-afd4dd6ba1ce",
   "metadata": {},
   "outputs": [
    {
     "data": {
      "text/plain": [
       "False"
      ]
     },
     "execution_count": 14,
     "metadata": {},
     "output_type": "execute_result"
    }
   ],
   "source": [
    "isinstance(a, AIMessage)"
   ]
  },
  {
   "cell_type": "code",
   "execution_count": 7,
   "id": "bc30b830-8dc6-4453-8e37-1e5bc740a943",
   "metadata": {},
   "outputs": [
    {
     "data": {
      "text/plain": [
       "['Config',\n",
       " '__abstractmethods__',\n",
       " '__add__',\n",
       " '__annotations__',\n",
       " '__class__',\n",
       " '__class_vars__',\n",
       " '__config__',\n",
       " '__custom_root_type__',\n",
       " '__delattr__',\n",
       " '__dict__',\n",
       " '__dir__',\n",
       " '__doc__',\n",
       " '__eq__',\n",
       " '__exclude_fields__',\n",
       " '__fields__',\n",
       " '__fields_set__',\n",
       " '__format__',\n",
       " '__ge__',\n",
       " '__get_validators__',\n",
       " '__getattribute__',\n",
       " '__getstate__',\n",
       " '__gt__',\n",
       " '__hash__',\n",
       " '__include_fields__',\n",
       " '__init__',\n",
       " '__init_subclass__',\n",
       " '__iter__',\n",
       " '__json_encoder__',\n",
       " '__le__',\n",
       " '__lt__',\n",
       " '__module__',\n",
       " '__ne__',\n",
       " '__new__',\n",
       " '__post_root_validators__',\n",
       " '__pre_root_validators__',\n",
       " '__pretty__',\n",
       " '__private_attributes__',\n",
       " '__reduce__',\n",
       " '__reduce_ex__',\n",
       " '__repr__',\n",
       " '__repr_args__',\n",
       " '__repr_name__',\n",
       " '__repr_str__',\n",
       " '__rich_repr__',\n",
       " '__schema_cache__',\n",
       " '__setattr__',\n",
       " '__setstate__',\n",
       " '__signature__',\n",
       " '__sizeof__',\n",
       " '__slots__',\n",
       " '__str__',\n",
       " '__subclasshook__',\n",
       " '__try_update_forward_refs__',\n",
       " '__validators__',\n",
       " '_abc_impl',\n",
       " '_backwards_compat_tool_calls',\n",
       " '_calculate_keys',\n",
       " '_copy_and_set_values',\n",
       " '_decompose_class',\n",
       " '_enforce_dict_if_root',\n",
       " '_get_value',\n",
       " '_init_private_attributes',\n",
       " '_iter',\n",
       " 'additional_kwargs',\n",
       " 'construct',\n",
       " 'content',\n",
       " 'copy',\n",
       " 'dict',\n",
       " 'example',\n",
       " 'from_orm',\n",
       " 'get_lc_namespace',\n",
       " 'id',\n",
       " 'invalid_tool_calls',\n",
       " 'is_lc_serializable',\n",
       " 'json',\n",
       " 'lc_attributes',\n",
       " 'lc_id',\n",
       " 'lc_secrets',\n",
       " 'name',\n",
       " 'parse_file',\n",
       " 'parse_obj',\n",
       " 'parse_raw',\n",
       " 'pretty_print',\n",
       " 'pretty_repr',\n",
       " 'response_metadata',\n",
       " 'schema',\n",
       " 'schema_json',\n",
       " 'to_json',\n",
       " 'to_json_not_implemented',\n",
       " 'tool_calls',\n",
       " 'type',\n",
       " 'update_forward_refs',\n",
       " 'usage_metadata',\n",
       " 'validate']"
      ]
     },
     "execution_count": 7,
     "metadata": {},
     "output_type": "execute_result"
    }
   ],
   "source": [
    "dir(a)"
   ]
  }
 ],
 "metadata": {
  "kernelspec": {
   "display_name": "Python 3 (ipykernel)",
   "language": "python",
   "name": "python3"
  },
  "language_info": {
   "codemirror_mode": {
    "name": "ipython",
    "version": 3
   },
   "file_extension": ".py",
   "mimetype": "text/x-python",
   "name": "python",
   "nbconvert_exporter": "python",
   "pygments_lexer": "ipython3",
   "version": "3.10.13"
  }
 },
 "nbformat": 4,
 "nbformat_minor": 5
}
