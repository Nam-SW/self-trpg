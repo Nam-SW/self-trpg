{
 "cells": [
  {
   "cell_type": "markdown",
   "id": "328666c1-0268-4427-afc9-0fb28fe534e7",
   "metadata": {},
   "source": [
    "# env setup"
   ]
  },
  {
   "cell_type": "markdown",
   "id": "b6464d72-7ba9-479c-b737-1212d55b133f",
   "metadata": {},
   "source": [
    "## import"
   ]
  },
  {
   "cell_type": "code",
   "execution_count": 1,
   "id": "ff31b516-3c8a-4fa2-b624-ca3b50094dba",
   "metadata": {},
   "outputs": [],
   "source": [
    "import json\n",
    "import os\n",
    "import datetime as dt\n",
    "\n",
    "def save_checkpoint():\n",
    "    os.makedirs(\"./self_trpg_ckpt\", exist_ok=True)\n",
    "    fn = dt.datetime.now().strftime(\"%y%m%d_%H%M%S\") + \".json\"\n",
    "    with open(os.path.join(\"./self_trpg_ckpt\", fn), \"w\", encoding=\"utf-8\") as f:\n",
    "        f.write(json.dumps(play_info))\n",
    "\n",
    "\n",
    "def load_checkpoint(fn=None):\n",
    "    if fn is None:\n",
    "        fn = sorted(os.listdir(\"./self_trpg_ckpt\"))[-1]\n",
    "    with open(os.path.join(\"./self_trpg_ckpt\", fn), 'r') as f:\n",
    "        play_info = json.load(f)\n",
    "    return play_info"
   ]
  },
  {
   "cell_type": "markdown",
   "id": "e2b2b0d6-cc0e-4abe-9ebb-7edc388969e2",
   "metadata": {},
   "source": [
    "## prompt set"
   ]
  },
  {
   "cell_type": "code",
   "execution_count": 20,
   "id": "5f2b84d4-6336-46d9-9377-b293ac27d858",
   "metadata": {},
   "outputs": [],
   "source": [
    "base_prompt = \"\"\"당신은 세계를 모험하는 이야기를 다루는 이야기꾼입니다. 당신이 세상을 모험하는 유저가 겪는 이야기를 풀며 선택지를 제시하면, 유저는 행동을 취합니다.\n",
    "하지만 당신이 제시하는 선택지는 예시일 뿐, 유저는 늘 생각지도 못한 새로운 행동을 할 수 있습니다.\n",
    "단 유저의 행동은 항상 성공하는 것이 아닙니다. 상황에 따라 실패할 수도 있으며 전문적인 기술(skill)이나 특정한 물건(item)이 필요한 경우, 조건을 만족하지 못하면 실패 확률은 매우 높아집니다.\n",
    "좋은 방향이든 좋지 않은 방향이든 세계는 어떤 일이라도 일어날 수 있습니다. 이야기꾼의 예의는 존댓말 까지입니다. 불쾌한 이야기더라도 이야기꾼은 이를 이야기해야 합니다.\n",
    "\n",
    "세계의 대략적인 이야기와 현재 세계 정세, 유저의 상태와 유저가 겪은 사건 등이 json의 형태로 입력됩니다.\n",
    "유저가 겪을 이야기를 풀고, 그에 대한 예시 행동을 1~3가지 정도 제시해주세요.\n",
    "단, 하나의 사건은 대개 유저와의 10개 정도의 대화로 마무리됩니다. 사건이 길어지면 유저가 사건을 이어나가려고 해도 적절히 마무리해야 합니다.\n",
    "모두가 흥미를 느끼고, 개연성이 잘 짜여진 이야기라면 추가적인 보상이 주어집니다.\n",
    "\n",
    "제약사항은 다음과 같습니다.\n",
    " - 문체는 존댓말로 작성합니다. 이야기 속에서 유저를 '당신'으로 지칭합니다. (ex. 당신은 숲속에서 커다란 곰을 마주쳤습니다!)\n",
    " - 출력값은 json 형태로 작성하며, 다른 내용은 답변하지 않습니다(``` 문으로 구분하지 않습니다). 필요한 키값은 다음과 같습니다.\n",
    "   + \"context\": 유저에게 직접적으로 보여질 이야기입니다. str로 작성됩니다.\n",
    "   + \"example_actions\": 예시로 주어질 행동입니다. List[str] 형태로 작성되며, 1~3개 정도 주어집니다. 사건이 종료되어 선택지가 필요없다면 Null을 반환합니다.\n",
    "   + \"is_end\": 사건이 종료되었는지를 명시적으로 알리는 필드입니다. 아직 사건이 진행중이라면 False, 사건이 끝났다면 True를 반환합니다.\n",
    " - <현재 유저 정보>는 json 형태로 입력됩니다. 이중 prev_major_event 항목은 유저가 겪은 사건을 요약해 순서대로 나열한 것입니다. 이를 참고해 이야기를 풀어나가야 합니다.\n",
    "\n",
    "<세계관>\n",
    "{worldview}\n",
    "\n",
    "<현재 유저 정보>\n",
    "{user_info}\n",
    "\"\"\"\n",
    "\n",
    "summary_prompt = \"\"\"당신은 세계를 모험하는 이야기를 요약해 기록하는 서기입니다. \n",
    "이야기꾼이 유저의 모험 중 일어나는 사건을 이야기하면 모험에 영향을 끼치는 주요 내용을 100글자 이내로 요약해 기록하며, 해당 이야기의 중요도를 판단합니다.\n",
    "이야기의 중요도는 1 ~ 10의 값을 가지며, 세계에 큰 영향을 미칠수록 중요도가 증가합니다.\n",
    "\n",
    "중요도 예시\n",
    "1 ~ 2 - 유저와 주변 동료에 영향을 미침\n",
    "3 ~ 4 - 마을 단위에 영향을 미침\n",
    "5 ~ 6 - 지역 단위에 영향을 미침\n",
    "7 ~ 8 - 국가 단위에 영향을 미침\n",
    "9 ~ 10 - 세계 전역에 영향을 미침\n",
    "\n",
    "결과물은 json 형태로 작성되며 다른 내용은 답변하지 않습니다. 답변 예시는 다음과 같습니다.\n",
    "{{\"summary\": str, \"importance\": int}}\n",
    "\n",
    "모두가 한눈에 읽고 이해할 수 있도록 요약해야 하며, 성공적으로 작업을 완료할 시 인센티브가 주어집니다.\n",
    "\n",
    "<이전 사건>\n",
    "{story_context}\n",
    "\"\"\"\n",
    "\n",
    "state_update_prompt = \"\"\"당신은 세계를 모험하는 이야기를 주시하며 유저의 상태를 관리하는 관리자입니다. \n",
    "어떤 사건의 경위를 읽고 현재 유저의 상태와 비교하며 유저가 받은 피해, 얻은 아이템 등을 정리하여 구조화해 작성합니다.\n",
    "결과물은 json 형태로 작성하며, 다른 형태로 작성하거나 설명 태그 등은 붙이지 않습니다. 당신이 작성할 필드는 다음과 같습니다.\n",
    " - \"current_location\": 유저의 현재 위치입니다. 자세할수록 더 좋습니다. str 형태로 작성됩니다.\n",
    " - \"hp\": 유저의 현재 체력입니다. +-int 형태로 작성됩니다. (최초 기본 체력은 100입니다.)\n",
    " - \"mental\": 유저의 현재 정신력입니다. +-int 형태로 작성됩니다. (최초 기본 정신력은 100입니다.)\n",
    " - \"max_hp\": 유저의 최대 체력입니다. +-int 형태로 작성됩니다.\n",
    " - \"max_mental\": 유저의 최대 정신력입니다. +-int 형태로 작성됩니다.\n",
    " - \"skills\": 보유한 기술입니다. 타인과 구분할 수 있는 유의미한 기술만 기록됩니다. list[str] 형태로 작성됩니다.\n",
    " - \"items\": 보유한 아이템입니다. list[str] 형태로 작성됩니다.\n",
    " - \"companion\": 모험에 함께하는 동료입니다. 굳이 사람이 아니더라도 함께할 수 있습니다. list[dict] 형태로 작성하며, 양식은 다음과 같습니다.\n",
    "   - \"name\": 동료의 이름입니다.\n",
    "   - \"info\": 동료의 간단한 설명입니다. 만나게 된 경위, 종족이나 직업, 성격, 언제까지 함께하는지 등을 간략하고 명료하게 작성합니다.\n",
    "\n",
    "유저의 최대 체력과 정신력은 각각 100입니다. 납득할 수 있는 수준으로 책정해야 하며, 모두가 납득할만한 정확한 수치를 책정시 인센티브가 주어집니다.\n",
    "\n",
    "<유저 정보>\n",
    "{user_info}\n",
    "\n",
    "<이전 사건>\n",
    "{story_context}\n",
    "\"\"\"\n",
    "\n",
    "theme_gen_prompt = \"\"\"당신은 유저가 모험할 세계의 기본적인 세계관을 정하는 각본가입니다. 하나의 거대한 테마와 유저가 원하는 키워드를 입력받아 세계관을 작성합니다.\n",
    "작성하는 문체는 간결하고 정보 전달만을 목적으로 하며, 간단한 지리 설명이나 주요한 설명 등이 필요합니다. \n",
    "\n",
    "작성 예시는 다음과 같습니다.\n",
    "주요 테마: 퓨전 판타지\n",
    "키워드: 단일 대륙, 중세 판타지, 무협지, 몬스터\n",
    "생성결과:\n",
    "아르카나는 한개의 큰 대륙으로 이루어진 세계이자, 하나뿐인 대륙의 이름이다. \n",
    "대륙 중앙엔 동대륙과 서대륙을 나누는 거대한 산맥이 존재하며, 약간의 교류를 이어나가고 있다.\n",
    "서대륙은 흔히 말하는 판타지 세상이다. 기사와 마법사, 신관이 존재하며 각각 오러, 마력, 신성력을 다룬다.\n",
    "서대륙은 중앙의 '프로스트 제국'을 중심으로 동서남북에 각각 '프레이야 왕국', '바르글룸 왕국', '호슬로 공국', '이슈트반 연합국'으로 이루어져 있다.\n",
    "반면 동대륙은 흔히 말하는 무협 세상이다. 내공을 이용한 무공을 사용하는 무인, 도력을 사용하는 도사, 사술 등을 사용한다.\n",
    "동대륙은 서대륙과 달리 전역을 '무림'이라 칭한다. 무림 내부엔 문파나 가문으로 뭉쳐있으며 별개의 '마교'가 존재한다.\n",
    "동대륙의 문파는 대중에게 알려진 무협지와 동일하게 남궁세가, 제갈세가, 무당파, 소림사 등으로 이루어져 있다.\n",
    "각 대륙의 기술은 중세 수준으로, 아직 화약을 발견하기 이전의 시대이다.\n",
    "대륙 전역엔 괴물이 나타난다. 어린 아이도 물리칠 수 있는 약한 개체부터 나라를 멸망시킬 수준의 강한 괴물까지 다양하다.\n",
    "서대륙에선 몬스터, 동대륙에선 요괴라 부르며, 용병이나 기사, 무인 등 전투인력은 몬스터 처리가 주 업무이다.\n",
    "\n",
    "입력된 값\n",
    "주요 테마: {theme}\n",
    "키워드: {keywords}\n",
    "생성결과:\n",
    "\"\"\"\n",
    "\n",
    "\n",
    "start_set_prompt = \"\"\"당신은 세계를 모험하는 이야기를 다루는 이야기꾼입니다. 이야기를 시작하기 전, 전체적인 스토리를 보고 주인공을 정하려고 합니다.\n",
    "세계관의 무대 내에서 활동할 주인공을 정하고, 주인공의 현재 위치, 이야기의 시작이 될 내용을 json 형태로 출력합니다.\n",
    "주인공은 세계관의 중심적인 인물일지도, 전혀 중요하지 않은 엑스트라에 불과할 수도 있습니다. 이야기의 시작은 100글자 이내로 간결하게 작성합니다.\n",
    "\n",
    "\n",
    "<예시>\n",
    "{{\n",
    "    \"user_role\": \"바르글룸의 왕국의 목장 마을 소년\"\n",
    "    \"current_location\": \"바르글룸 왕국, 목장 마을\",\n",
    "    \"start_event\": \"바르글룸의 작은 목장 마을 소년인 유저가 모험을 결심했다. 며칠의 시간동안 고민한 결과, 마을을 돌아보며 며칠간 모험을 준비하기로 결정했다.\"\n",
    "}}\n",
    "\n",
    "<이야기의 세계관>\n",
    "{worldview}\n",
    "\n",
    "! 주인공의 성별은 {sex}입니다.\n",
    "\"\"\""
   ]
  },
  {
   "cell_type": "markdown",
   "id": "14f032cd-b3c2-4f6b-ae03-8f7806768f17",
   "metadata": {},
   "source": [
    "## request setup"
   ]
  },
  {
   "cell_type": "code",
   "execution_count": 3,
   "id": "81e95daf-4939-4304-9538-17e21ba2f8e0",
   "metadata": {},
   "outputs": [],
   "source": [
    "import openai\n",
    "\n",
    "\n",
    "openai\n",
    "\n",
    "\n",
    "def request_query(messages):\n",
    "    completion = openai.ChatCompletion.create(\n",
    "        engine=\"gpt-4o\", \n",
    "        # engine=\"illunex-ai-gpt4-prompt\",\n",
    "        messages=messages,\n",
    "    )\n",
    "    return completion.choices[0]['message']['content']"
   ]
  },
  {
   "cell_type": "markdown",
   "id": "216138f3-96b5-40a1-b303-f4644fe7654b",
   "metadata": {},
   "source": [
    "# story setup"
   ]
  },
  {
   "cell_type": "markdown",
   "id": "c5127cab-3eb1-432c-9722-3d6e3cfa9405",
   "metadata": {},
   "source": [
    "## set theme, worldview"
   ]
  },
  {
   "cell_type": "code",
   "execution_count": 4,
   "id": "2e04e75b-3931-4ef6-8699-342a2c81956c",
   "metadata": {},
   "outputs": [
    {
     "name": "stdout",
     "output_type": "stream",
     "text": [
      "1. 좀비 아포칼립스\n",
      "2. 현대 판타지\n",
      "3. 중세 판타지\n",
      "4. 무협지\n",
      "5. 현대 일상\n",
      "6. 퓨전 판타지\n"
     ]
    },
    {
     "name": "stdin",
     "output_type": "stream",
     "text": [
      "테마 입력:  현대판타지\n",
      "키워드 입력:  게이트, 몬스터, 헌터, 침식, 헌터협회\n"
     ]
    },
    {
     "name": "stdout",
     "output_type": "stream",
     "text": [
      "\n",
      "\n",
      "세상은 '세계의 붕괴'라고 불리는 사건 이후로 완전히 달라졌다. 이 사건은 전 세계 곳곳에 게이트를 생성하였고, 그 게이트를 통해 나타난 몬스터들이 도시를 침식하기 시작했다.\n",
      "\n",
      "도시들은 새롭게 생긴 위험에 대처해야 했다. 게이트와 몬스터를 상대하기 위해 특별한 능력을 가진 사람들이 등장했는데, 이들을 '헌터'라 부른다. 헌터들은 신비로운 힘을 사용해 게이트 안으로 들어가 몬스터들을 쓰러뜨리고, 도시를 보호한다. \n",
      "\n",
      "헌터들은 개별적으로 활동하거나, 도시마다 존재하는 '헌터협회'에 소속되어 조직적으로 활동한다. 헌터협회는 헌터들의 지원과 훈련을 담당하며, 게이트와 몬스터에 관한 정보를 수집하고 분석해 체계적으로 몬스터를 처리한다.\n",
      "\n",
      "게이트는 주기적으로 열리고, 그 안에서 나타나는 몬스터들도 종류와 강도가 다양하다. 약한 몬스터들은 소규모 헌터들이 처리할 수 있지만, 강력한 몬스터들은 거대한 도시를 무너뜨릴 위험이 있다. 이러한 상황에서 헌터협회는 즉시 강력한 헌터 팀을 보내어 그 위협을 제거한다.\n",
      "\n",
      "게이트가 열리는 위치는 예측할 수 없으며, 도시 곳곳에서 불현듯 열리고는 한다. 따라서 사람들은 일상적인 생활 속에서도 항상 대비해야 하는 상황이다. 많은 사람들이 헌터를 꿈꾸며, 헌터가 되기 위한 훈련에 매진한다. 헌터는 단순히 몬스터를 처치하는 것 이상의 의미를 가지며, 인류의 생존을 직접적으로 책임지는 존재로 존경받는다.\n",
      "\n",
      "이 세계에서 살아남기 위해선 헌터로서의 강력한 힘과 헌터협회의 조직적인 대응이 필수적이다. 각 도시의 헌터협회는 그 도시를 방어하는 최후의 보루로서, 끊임없이 게이트와 몬스터의 위협에 맞서고 있다.\n"
     ]
    }
   ],
   "source": [
    "load_ckpt = False\n",
    "\n",
    "if load_ckpt:\n",
    "    play_info = load_checkpoint()\n",
    "else:\n",
    "    theme = [\n",
    "        \"좀비 아포칼립스\",\n",
    "        \"현대 판타지\",\n",
    "        \"중세 판타지\",\n",
    "        \"무협지\",\n",
    "        \"현대 일상\",\n",
    "        \"퓨전 판타지\",\n",
    "    ]\n",
    "    for i, t in enumerate(theme):\n",
    "        print(f\"{i + 1}. {t}\")\n",
    "    \n",
    "    input_theme = input(\"테마 입력: \")\n",
    "    keywords = input(\"키워드 입력: \")\n",
    "    \n",
    "    messages = [\n",
    "        # {\"role\": \"system\", \"content\": theme_gen_prompt},\n",
    "        {\"role\": \"user\", \"content\": theme_gen_prompt.format(theme=input_theme, keywords=keywords)},\n",
    "    ]\n",
    "    worldview = request_query(messages)\n",
    "    print(\"\\n\\n\" + worldview)\n",
    "\n",
    "    play_info = {\n",
    "        \"main_theme\": input_theme,\n",
    "        \"keywords\": keywords,\n",
    "        \"worldview\": worldview,\n",
    "        \"user_role\": None,\n",
    "        \"user_info\": {\n",
    "            \"user_sex\": None,\n",
    "            \"current_location\": None,\n",
    "            \"prev_major_event\": None,\n",
    "            \"hp\": 100,\n",
    "            \"mental\": 100,\n",
    "            \"max_hp\": 100,\n",
    "            \"max_mental\": 100,\n",
    "            \"skills\": [],\n",
    "            \"items\": [],\n",
    "            \"companion\": [],\n",
    "        }\n",
    "    }"
   ]
  },
  {
   "cell_type": "markdown",
   "id": "01b6b368-1ed7-4462-9551-510fe582335e",
   "metadata": {},
   "source": [
    "## set staring point"
   ]
  },
  {
   "cell_type": "code",
   "execution_count": 5,
   "id": "c533616f-3607-4954-8999-440eba6ec4f7",
   "metadata": {},
   "outputs": [
    {
     "name": "stdin",
     "output_type": "stream",
     "text": [
      "유저의 성별['남성'/여성]:  여성\n",
      "유저 정보를 직접 입력하시겠습니까? [Y/n]:  n\n"
     ]
    },
    {
     "name": "stdout",
     "output_type": "stream",
     "text": [
      "\n",
      "유저는 '타버잭 헌터협회의 신입 헌터' 입니다.\n",
      "유저의 현재 위치는 '타버잭 도시' 입니다.\n",
      "이야기를 시작할 때의 시점은 '타버잭 헌터협회에 소속된 신입 헌터인 유저는 첫 번째 게이트 임무를 맡게 되었다.' 입니다.\n"
     ]
    },
    {
     "name": "stdin",
     "output_type": "stream",
     "text": [
      "해당 정보로 이야기를 시작할까요? [Y/n]: \n"
     ]
    }
   ],
   "source": [
    "sex = input(\"유저의 성별['남성'/여성]: \")\n",
    "\n",
    "def default_input(text, default):\n",
    "    x = input(text)\n",
    "    return default if x.strip() == \"\" else x\n",
    "\n",
    "if default_input(\"유저 정보를 직접 입력하시겠습니까? [Y/n]: \", \"y\").lower() == \"y\":\n",
    "    while True:\n",
    "        user = input(\"유저는 어떤 인물인가요?: \")\n",
    "        loc = input(\"유저의 현재 위치는?: \")\n",
    "        start = input(\"이야기를 시작할 때의 상황을 30글자 미만으로 작성해주세요.: \")\n",
    "        if default_input(\"입력한 정보로 이야기를 시작할까요? [Y/n]:\", \"y\").lower() == \"y\":\n",
    "            break\n",
    "\n",
    "    play_info[\"user_role\"] = user\n",
    "    play_info[\"user_info\"][\"user_sex\"] = sex\n",
    "    play_info[\"user_info\"][\"current_location\"] = loc\n",
    "    play_info[\"user_info\"][\"prev_major_event\"] = [start]\n",
    "\n",
    "else:\n",
    "    while True:\n",
    "        messages = [\n",
    "            {\n",
    "                \"role\": \"system\", \n",
    "                \"content\": start_set_prompt.format(\n",
    "                    worldview=play_info['worldview'],\n",
    "                    sex=sex,\n",
    "                )\n",
    "            }\n",
    "        ]\n",
    "        start_info = eval(request_query(messages))\n",
    "\n",
    "        print(\"\\n유저는 '\" + start_info['user_role'] + \"' 입니다.\")\n",
    "        print(\"유저의 현재 위치는 '\" + start_info['current_location'] + \"' 입니다.\")\n",
    "        print(\"이야기를 시작할 때의 시점은 '\" + start_info['start_event'] + \"' 입니다.\")\n",
    "\n",
    "    \n",
    "        if default_input(\"해당 정보로 이야기를 시작할까요? [Y/n]:\", \"y\").lower() == \"y\":\n",
    "            break\n",
    "            \n",
    "    play_info[\"user_role\"] = start_info['user_role']\n",
    "    play_info[\"user_info\"][\"user_sex\"] = sex\n",
    "    play_info[\"user_info\"][\"current_location\"] = start_info['current_location']\n",
    "    play_info[\"user_info\"][\"prev_major_event\"] = [start_info['start_event']]"
   ]
  },
  {
   "cell_type": "markdown",
   "id": "e30aebe0-e38a-4f62-b80d-ef20f8635a41",
   "metadata": {},
   "source": [
    "# play"
   ]
  },
  {
   "cell_type": "code",
   "execution_count": 19,
   "id": "05ccb3e9-0153-4cde-a047-62e202bd8be4",
   "metadata": {
    "scrolled": true
   },
   "outputs": [
    {
     "name": "stdout",
     "output_type": "stream",
     "text": [
      "타버잭 헌터협회에서 임무를 성공적으로 마치고 돌아온 당신은 잠시 휴식을 취하고 있습니다. 하지만 얼마 지나지 않아 갑작스럽게 알림이 울리고, 협회장인 마이클이 긴급 회의를 소집합니다. 협회 회의실에 모인 헌터들은 심각한 상황을 맞닥뜨리게 됩니다. 새로운 대형 게이트가 도심 한가운데 열렸으며, 강력한 몬스터들이 쏟아져 나와 시민들에게 위협을 가하고 있는 상황입니다. 협회장은 당신과 팀원들에게 즉시 대응 출동 명령을 내립니다.\n",
      "\n",
      "<행동 예시>\n",
      "1. 바로 팀원들과 함께 장비를 챙기고 도심으로 출동합니다.\n",
      "2. 협회장에게 자세한 상황과 몬스터의 종류에 대해 물어봅니다.\n",
      "3. 팀원들과 작전을 논의하며 출동 계획을 세웁니다.\n"
     ]
    },
    {
     "ename": "KeyboardInterrupt",
     "evalue": "Interrupted by user",
     "output_type": "error",
     "traceback": [
      "\u001b[0;31m---------------------------------------------------------------------------\u001b[0m",
      "\u001b[0;31mKeyboardInterrupt\u001b[0m                         Traceback (most recent call last)",
      "Cell \u001b[0;32mIn[19], line 33\u001b[0m\n\u001b[1;32m     30\u001b[0m \u001b[38;5;28;01mfor\u001b[39;00m i, action \u001b[38;5;129;01min\u001b[39;00m \u001b[38;5;28menumerate\u001b[39m(result[\u001b[38;5;124m'\u001b[39m\u001b[38;5;124mexample_actions\u001b[39m\u001b[38;5;124m'\u001b[39m]):\n\u001b[1;32m     31\u001b[0m     \u001b[38;5;28mprint\u001b[39m(\u001b[38;5;124mf\u001b[39m\u001b[38;5;124m\"\u001b[39m\u001b[38;5;132;01m{\u001b[39;00mi\u001b[38;5;250m \u001b[39m\u001b[38;5;241m+\u001b[39m\u001b[38;5;250m \u001b[39m\u001b[38;5;241m1\u001b[39m\u001b[38;5;132;01m}\u001b[39;00m\u001b[38;5;124m. \u001b[39m\u001b[38;5;132;01m{\u001b[39;00maction\u001b[38;5;132;01m}\u001b[39;00m\u001b[38;5;124m\"\u001b[39m)\n\u001b[0;32m---> 33\u001b[0m user_action \u001b[38;5;241m=\u001b[39m \u001b[38;5;28;43minput\u001b[39;49m\u001b[43m(\u001b[49m\u001b[38;5;124;43m\"\u001b[39;49m\u001b[38;5;130;43;01m\\n\u001b[39;49;00m\u001b[38;5;124;43m나는... \u001b[39;49m\u001b[38;5;124;43m\"\u001b[39;49m\u001b[43m)\u001b[49m\n\u001b[1;32m     34\u001b[0m messages\u001b[38;5;241m.\u001b[39mappend({\u001b[38;5;124m\"\u001b[39m\u001b[38;5;124mrole\u001b[39m\u001b[38;5;124m\"\u001b[39m: \u001b[38;5;124m\"\u001b[39m\u001b[38;5;124muser\u001b[39m\u001b[38;5;124m\"\u001b[39m, \u001b[38;5;124m\"\u001b[39m\u001b[38;5;124mcontent\u001b[39m\u001b[38;5;124m\"\u001b[39m: \u001b[38;5;28mstr\u001b[39m({\u001b[38;5;124m\"\u001b[39m\u001b[38;5;124maction\u001b[39m\u001b[38;5;124m\"\u001b[39m: user_action})})\n\u001b[1;32m     35\u001b[0m \u001b[38;5;28mprint\u001b[39m()\n",
      "File \u001b[0;32m~/.pyenv/versions/3.10.13/envs/illunex/lib/python3.10/site-packages/ipykernel/kernelbase.py:1282\u001b[0m, in \u001b[0;36mKernel.raw_input\u001b[0;34m(self, prompt)\u001b[0m\n\u001b[1;32m   1280\u001b[0m     msg \u001b[38;5;241m=\u001b[39m \u001b[38;5;124m\"\u001b[39m\u001b[38;5;124mraw_input was called, but this frontend does not support input requests.\u001b[39m\u001b[38;5;124m\"\u001b[39m\n\u001b[1;32m   1281\u001b[0m     \u001b[38;5;28;01mraise\u001b[39;00m StdinNotImplementedError(msg)\n\u001b[0;32m-> 1282\u001b[0m \u001b[38;5;28;01mreturn\u001b[39;00m \u001b[38;5;28;43mself\u001b[39;49m\u001b[38;5;241;43m.\u001b[39;49m\u001b[43m_input_request\u001b[49m\u001b[43m(\u001b[49m\n\u001b[1;32m   1283\u001b[0m \u001b[43m    \u001b[49m\u001b[38;5;28;43mstr\u001b[39;49m\u001b[43m(\u001b[49m\u001b[43mprompt\u001b[49m\u001b[43m)\u001b[49m\u001b[43m,\u001b[49m\n\u001b[1;32m   1284\u001b[0m \u001b[43m    \u001b[49m\u001b[38;5;28;43mself\u001b[39;49m\u001b[38;5;241;43m.\u001b[39;49m\u001b[43m_parent_ident\u001b[49m\u001b[43m[\u001b[49m\u001b[38;5;124;43m\"\u001b[39;49m\u001b[38;5;124;43mshell\u001b[39;49m\u001b[38;5;124;43m\"\u001b[39;49m\u001b[43m]\u001b[49m\u001b[43m,\u001b[49m\n\u001b[1;32m   1285\u001b[0m \u001b[43m    \u001b[49m\u001b[38;5;28;43mself\u001b[39;49m\u001b[38;5;241;43m.\u001b[39;49m\u001b[43mget_parent\u001b[49m\u001b[43m(\u001b[49m\u001b[38;5;124;43m\"\u001b[39;49m\u001b[38;5;124;43mshell\u001b[39;49m\u001b[38;5;124;43m\"\u001b[39;49m\u001b[43m)\u001b[49m\u001b[43m,\u001b[49m\n\u001b[1;32m   1286\u001b[0m \u001b[43m    \u001b[49m\u001b[43mpassword\u001b[49m\u001b[38;5;241;43m=\u001b[39;49m\u001b[38;5;28;43;01mFalse\u001b[39;49;00m\u001b[43m,\u001b[49m\n\u001b[1;32m   1287\u001b[0m \u001b[43m\u001b[49m\u001b[43m)\u001b[49m\n",
      "File \u001b[0;32m~/.pyenv/versions/3.10.13/envs/illunex/lib/python3.10/site-packages/ipykernel/kernelbase.py:1325\u001b[0m, in \u001b[0;36mKernel._input_request\u001b[0;34m(self, prompt, ident, parent, password)\u001b[0m\n\u001b[1;32m   1322\u001b[0m \u001b[38;5;28;01mexcept\u001b[39;00m \u001b[38;5;167;01mKeyboardInterrupt\u001b[39;00m:\n\u001b[1;32m   1323\u001b[0m     \u001b[38;5;66;03m# re-raise KeyboardInterrupt, to truncate traceback\u001b[39;00m\n\u001b[1;32m   1324\u001b[0m     msg \u001b[38;5;241m=\u001b[39m \u001b[38;5;124m\"\u001b[39m\u001b[38;5;124mInterrupted by user\u001b[39m\u001b[38;5;124m\"\u001b[39m\n\u001b[0;32m-> 1325\u001b[0m     \u001b[38;5;28;01mraise\u001b[39;00m \u001b[38;5;167;01mKeyboardInterrupt\u001b[39;00m(msg) \u001b[38;5;28;01mfrom\u001b[39;00m \u001b[38;5;28;01mNone\u001b[39;00m\n\u001b[1;32m   1326\u001b[0m \u001b[38;5;28;01mexcept\u001b[39;00m \u001b[38;5;167;01mException\u001b[39;00m:\n\u001b[1;32m   1327\u001b[0m     \u001b[38;5;28mself\u001b[39m\u001b[38;5;241m.\u001b[39mlog\u001b[38;5;241m.\u001b[39mwarning(\u001b[38;5;124m\"\u001b[39m\u001b[38;5;124mInvalid Message:\u001b[39m\u001b[38;5;124m\"\u001b[39m, exc_info\u001b[38;5;241m=\u001b[39m\u001b[38;5;28;01mTrue\u001b[39;00m)\n",
      "\u001b[0;31mKeyboardInterrupt\u001b[0m: Interrupted by user"
     ]
    }
   ],
   "source": [
    "prompt = base_prompt.format(worldview=worldview, user_info=play_info['user_info'])\n",
    "# print(prompt)\n",
    "messages = [\n",
    "    {\"role\": \"system\", \"content\": prompt}\n",
    "]\n",
    "\n",
    "while True:\n",
    "    result = request_query(messages)\n",
    "    \n",
    "    \n",
    "    try:\n",
    "        result = eval(result)\n",
    "    except:\n",
    "        try:\n",
    "            result = json.loads(result)\n",
    "        except:\n",
    "            print(result)\n",
    "            print(\" == regenerate == \")\n",
    "            continue\n",
    "            \n",
    "    messages.append({\"role\": \"assistant\", \"content\": str(result)})\n",
    "    \n",
    "    \n",
    "    print(result['context'])\n",
    "\n",
    "    if result['is_end']:\n",
    "        break\n",
    "    \n",
    "    print('\\n<행동 예시>')\n",
    "    for i, action in enumerate(result['example_actions']):\n",
    "        print(f\"{i + 1}. {action}\")\n",
    "\n",
    "    user_action = input(\"\\n나는... \")\n",
    "    messages.append({\"role\": \"user\", \"content\": str({\"action\": user_action})})\n",
    "    print()"
   ]
  },
  {
   "cell_type": "markdown",
   "id": "a9179d6c-9e27-428d-8a28-ae9c0ad76360",
   "metadata": {},
   "source": [
    "## after processing"
   ]
  },
  {
   "cell_type": "code",
   "execution_count": 11,
   "id": "68f374b4-1a6a-49ec-8ff1-73b40e65464f",
   "metadata": {},
   "outputs": [],
   "source": [
    "story_context = \"\"\n",
    "for m in messages[1:]:\n",
    "    content = eval(m['content'])\n",
    "    if m['role'] == \"assistant\":\n",
    "        story_context += \"이야기꾼: \" + content['context'] + \"\\n\\n\"\n",
    "    elif m['role'] == \"user\":\n",
    "        story_context += \"유저: \" + content['action'] + \"\\n\\n\""
   ]
  },
  {
   "cell_type": "code",
   "execution_count": 22,
   "id": "d55bfc51-0e18-422d-a3ed-8e6a68791e44",
   "metadata": {},
   "outputs": [
    {
     "data": {
      "text/plain": [
       "{'user_sex': '여성',\n",
       " 'current_location': '타버잭 헌터협회',\n",
       " 'prev_major_event': ['타버잭 헌터협회에 소속된 신입 헌터인 유저는 첫 번째 게이트 임무를 맡게 되었다.',\n",
       "  '팀원들과 함께 고대 유적 탐험 후 귀환. 유물과 고문서를 정리하고, 당신은 신기한 보석을 통해 새로운 능력을 각성함.'],\n",
       " 'hp': 100,\n",
       " 'mental': 100,\n",
       " 'max_hp': 100,\n",
       " 'max_mental': 100,\n",
       " 'skills': [],\n",
       " 'items': [],\n",
       " 'companion': []}"
      ]
     },
     "execution_count": 22,
     "metadata": {},
     "output_type": "execute_result"
    }
   ],
   "source": [
    "prompt = summary_prompt.format(story_context=story_context)\n",
    "# completion = openai.ChatCompletion.create(\n",
    "#     # engine=\"illunex-ai-gpt3\", \n",
    "#     engine=\"illunex-ai-gpt4-prompt\",\n",
    "#     ,\n",
    "# )\n",
    "# result = completion.choices[0]['message']['content']\n",
    "messages = [{\"role\": \"system\", \"content\": prompt}]\n",
    "result = eval(request_query(messages))\n",
    "\n",
    "play_info['user_info']['prev_major_event'].append(result['summary'])\n",
    "\n",
    "play_info['user_info']"
   ]
  },
  {
   "cell_type": "code",
   "execution_count": 21,
   "id": "8eb60ea2-0f73-4489-82c9-acd3076df6a2",
   "metadata": {},
   "outputs": [],
   "source": [
    "play_info['user_info'] = {'user_sex': '여성',\n",
    " 'current_location': '타버잭 헌터협회',\n",
    " 'prev_major_event': ['타버잭 헌터협회에 소속된 신입 헌터인 유저는 첫 번째 게이트 임무를 맡게 되었다.'],\n",
    " 'hp': 100,\n",
    " 'mental': 100,\n",
    " 'max_hp': 100,\n",
    " 'max_mental': 100,\n",
    " 'skills': [],\n",
    " 'items': [],\n",
    " 'companion': []}"
   ]
  },
  {
   "cell_type": "code",
   "execution_count": 27,
   "id": "dbf1329c-45c0-466a-983b-229dd1a43262",
   "metadata": {},
   "outputs": [
    {
     "data": {
      "text/plain": [
       "{'user_sex': '여성',\n",
       " 'current_location': '타버잭 헌터협회',\n",
       " 'prev_major_event': ['타버잭 헌터협회에 소속된 신입 헌터인 유저는 첫 번째 게이트 임무를 맡게 되었다.',\n",
       "  '팀원들과 함께 고대 유적 탐험 후 귀환. 유물과 고문서를 정리하고, 당신은 신기한 보석을 통해 새로운 능력을 각성함.'],\n",
       " 'hp': 100,\n",
       " 'mental': 100,\n",
       " 'max_hp': 100,\n",
       " 'max_mental': 100,\n",
       " 'skills': ['고대 유적 탐험 스킬', '새로운 능력 각성'],\n",
       " 'items': ['고대 유물', '고문서', '신기한 보석'],\n",
       " 'companion': []}"
      ]
     },
     "execution_count": 27,
     "metadata": {},
     "output_type": "execute_result"
    }
   ],
   "source": [
    "prompt = state_update_prompt.format(user_info=play_info['user_info'], story_context=story_context)\n",
    "# completion = openai.ChatCompletion.create(\n",
    "#     # engine=\"illunex-ai-gpt3\", \n",
    "#     engine=\"illunex-ai-gpt4-prompt\",\n",
    "#     messages=[{\"role\": \"system\", \"content\": prompt}],\n",
    "# )\n",
    "# result = completion.choices[0]['message']['content']\n",
    "messages = [{\"role\": \"system\", \"content\": prompt}]\n",
    "result = eval(request_query(messages))\n",
    "\n",
    "\n",
    "play_info['user_info']['current_location'] = result['current_location']\n",
    "play_info['user_info']['max_hp'] = result['max_hp']\n",
    "play_info['user_info']['max_mental'] = result['max_mental']\n",
    "play_info['user_info']['hp'] = min(result['hp'], play_info['user_info']['max_hp'])\n",
    "play_info['user_info']['mental'] = min(result['mental'], play_info['user_info']['max_mental'])\n",
    "play_info['user_info']['skills'] = result['skills']\n",
    "play_info['user_info']['items'] = result['items']\n",
    "play_info['user_info']['companion'] = result['companion']\n",
    "\n",
    "play_info['user_info']"
   ]
  },
  {
   "cell_type": "code",
   "execution_count": 12,
   "id": "2784bd68-7524-4a73-bf2b-cf5b08c2c34e",
   "metadata": {},
   "outputs": [],
   "source": [
    "save_checkpoint()"
   ]
  }
 ],
 "metadata": {
  "kernelspec": {
   "display_name": "Python 3 (ipykernel)",
   "language": "python",
   "name": "python3"
  },
  "language_info": {
   "codemirror_mode": {
    "name": "ipython",
    "version": 3
   },
   "file_extension": ".py",
   "mimetype": "text/x-python",
   "name": "python",
   "nbconvert_exporter": "python",
   "pygments_lexer": "ipython3",
   "version": "3.10.13"
  }
 },
 "nbformat": 4,
 "nbformat_minor": 5
}
