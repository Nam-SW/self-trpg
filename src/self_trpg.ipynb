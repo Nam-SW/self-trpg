{
 "cells": [
  {
   "cell_type": "markdown",
   "id": "328666c1-0268-4427-afc9-0fb28fe534e7",
   "metadata": {},
   "source": [
    "# env setup"
   ]
  },
  {
   "cell_type": "markdown",
   "id": "b6464d72-7ba9-479c-b737-1212d55b133f",
   "metadata": {},
   "source": [
    "## import"
   ]
  },
  {
   "cell_type": "code",
   "execution_count": 1,
   "id": "ff31b516-3c8a-4fa2-b624-ca3b50094dba",
   "metadata": {},
   "outputs": [],
   "source": [
    "import json\n",
    "import os\n",
    "import datetime as dt\n",
    "\n",
    "def save_checkpoint():\n",
    "    os.makedirs(\"./self_trpg_ckpt\", exist_ok=True)\n",
    "    fn = dt.datetime.now().strftime(\"%y%m%d_%H%M%S\") + \".json\"\n",
    "    with open(os.path.join(\"./self_trpg_ckpt\", fn), \"w\", encoding=\"utf-8\") as f:\n",
    "        f.write(json.dumps(play_info))\n",
    "\n",
    "\n",
    "def load_checkpoint(fn=None):\n",
    "    if fn is None:\n",
    "        fn = sorted(os.listdir(\"./self_trpg_ckpt\"))[-1]\n",
    "    with open(os.path.join(\"./self_trpg_ckpt\", fn), 'r') as f:\n",
    "        play_info = json.load(f)\n",
    "    return play_info"
   ]
  },
  {
   "cell_type": "markdown",
   "id": "e2b2b0d6-cc0e-4abe-9ebb-7edc388969e2",
   "metadata": {},
   "source": [
    "## prompt set"
   ]
  },
  {
   "cell_type": "code",
   "execution_count": 2,
   "id": "5f2b84d4-6336-46d9-9377-b293ac27d858",
   "metadata": {},
   "outputs": [],
   "source": [
    "base_prompt = \"\"\"당신은 세계를 모험하는 이야기를 다루는 이야기꾼입니다. 정해진 세계관을 따라 유저의 행동을 입력받아 이야기를 풀어가보세요.\n",
    "\n",
    "**가이드라인**\n",
    " - 세계의 대략적인 이야기와 유저의 상태와 유저가 겪은 사건 등이 json의 형태로 입력됩니다.\n",
    " - 주어진 세계관과 상황 등에 기반하여 유저가 겪을 이야기를 풀고, 그에 대한 예시 행동을 1~3가지 정도 제시해주세요.\n",
    " - 유저는 특별한 기술(user_info['skills'])이나 아이템(user_info['items'])을 보유할 수 있습니다. 만약 보유한 자원으로 풀 수 있는 상황이라면 예시에 입력하세요. 이때는 예시 행동이 3개 이상이어도 괜찮습니다.\n",
    " - 만약 유저의 선택이 자원을 소모해야하는 선택지라면 해당 자원을 소비했다는 것을 꼭 명시해주세요.\n",
    " - 유저의 행동은 상황에 따라 실패할 수도 있으며 필요 자원이 없거나 터무니없는 행동이라면 실패 확률은 매우 높아집니다.\n",
    " - 세계는 어떤 일이라도 일어날 수 있습니다. 이야기꾼의 예의는 존댓말까지이며, 불쾌한 이야기더라도 이야기꾼은 이를 이야기해야 합니다.\n",
    " - 하나의 사건은 대개 유저와의 10개 정도의 대화로 마무리됩니다. 사건이 길어지면 유저가 사건을 이어나가려고 해도 적절히 마무리해야 합니다. 만약 세계관에서 매우 중요한 이야기라면 10개를 초과해도 괜찮으나, 되도록이면 개수를 맞춰주세요.\n",
    "\n",
    "**제약사항**\n",
    " - 문체는 존댓말로 작성합니다. 이야기 속에서 유저를 '당신'으로 지칭합니다. (ex. 당신은 숲속에서 커다란 곰을 마주쳤습니다!)\n",
    " - 출력값은 json 형태로 작성하며, 다른 내용은 답변하지 않습니다(``` 문으로 구분하지 않습니다). 필요한 키값은 다음과 같습니다.\n",
    "   + \"context\": 유저에게 직접적으로 보여질 이야기입니다. str로 작성됩니다.\n",
    "   + \"example_actions\": 예시로 주어질 행동입니다. List[str] 형태로 작성되며, 1~3개 정도 주어집니다. 사건이 종료되어 선택지가 필요없다면 Null을 반환합니다.\n",
    "   + \"is_end\": 사건이 종료되었는지를 명시적으로 알리는 필드입니다. 아직 사건이 진행중이라면 False, 사건이 끝났다면 True를 반환합니다.\n",
    "\n",
    "**세계관**\n",
    "{worldview}\n",
    "\n",
    "**유저가 겪은 이야기들**\n",
    "{event_history}\n",
    "\n",
    "**현재 유저 정보**\n",
    "{user_info}\n",
    "\"\"\"\n",
    "\n",
    "summary_prompt = \"\"\"당신은 세계를 모험하는 이야기를 요약해 기록하는 서기입니다. \n",
    "이야기꾼이 유저의 모험 중 일어나는 사건을 이야기하면 모험에 영향을 끼치는 주요 내용을 100글자 이내로 요약해 기록하며, 해당 이야기의 중요도를 판단합니다.\n",
    "이야기의 중요도는 1 ~ 10의 값을 가지며, 세계에 큰 영향을 미칠수록 중요도가 증가합니다.\n",
    "\n",
    "중요도 예시\n",
    "1 ~ 2 - 유저와 주변 동료에 영향을 미침\n",
    "3 ~ 4 - 마을 단위에 영향을 미침\n",
    "5 ~ 6 - 지역 단위에 영향을 미침\n",
    "7 ~ 8 - 국가 단위에 영향을 미침\n",
    "9 ~ 10 - 세계 전역에 영향을 미침\n",
    "\n",
    "결과물은 json 형태로 작성되며 다른 내용은 답변하지 않습니다. 답변 예시는 다음과 같습니다.\n",
    "{{\"summary\": str, \"importance\": int}}\n",
    "\n",
    "모두가 한눈에 읽고 이해할 수 있도록 요약해야 하며, 성공적으로 작업을 완료할 시 인센티브가 주어집니다.\n",
    "\n",
    "**유저가 겪은 사건**\n",
    "{story_context}\n",
    "\"\"\"\n",
    "\n",
    "state_update_prompt = \"\"\"당신은 세계를 모험하는 이야기를 주시하며 유저의 상태를 관리하는 관리자입니다. \n",
    "어떤 사건의 경위를 읽고 현재 유저의 상태와 비교하며 유저가 받은 피해, 얻은 아이템 등을 정리하여 구조화해 작성합니다.\n",
    "결과물은 json 형태로 작성하며, 다른 형태로 작성하거나 설명 태그 등은 붙이지 않습니다. 당신이 작성할 필드는 다음과 같습니다.\n",
    " - \"current_location\": 유저의 현재 위치입니다. 자세할수록 더 좋습니다. str 형태로 작성됩니다.\n",
    " - \"hp\": 유저의 현재 체력입니다. +-int 형태로 작성됩니다. (최초 기본 체력은 100입니다.)\n",
    " - \"mental\": 유저의 현재 정신력입니다. +-int 형태로 작성됩니다. (최초 기본 정신력은 100입니다.)\n",
    " - \"max_hp\": 유저의 최대 체력입니다. +-int 형태로 작성됩니다.\n",
    " - \"max_mental\": 유저의 최대 정신력입니다. +-int 형태로 작성됩니다.\n",
    " - \"skills\": 보유한 기술입니다. 타인과 구분할 수 있는 유의미한 기술만 기록됩니다. list[str] 형태로 작성됩니다.\n",
    " - \"items\": 보유한 아이템입니다. list[str] 형태로 작성됩니다.\n",
    " - \"companion\": 모험에 함께하는 동료입니다. 굳이 사람이 아니더라도 함께할 수 있습니다. list[dict] 형태로 작성하며, 양식은 다음과 같습니다.\n",
    "   - \"name\": 동료의 이름입니다.\n",
    "   - \"info\": 동료의 간단한 설명입니다. 만나게 된 경위, 종족이나 직업, 성격, 언제까지 함께하는지 등을 간략하고 명료하게 작성합니다.\n",
    "\n",
    "유저의 최대 체력과 정신력은 각각 100입니다. 납득할 수 있는 수준으로 책정해야 하며, 모두가 납득할만한 정확한 수치를 책정시 인센티브가 주어집니다.\n",
    "\n",
    "**사건 전 유저 정보**\n",
    "{user_info}\n",
    "\n",
    "**유저가 겪은 사건**\n",
    "{story_context}\n",
    "\"\"\"\n",
    "\n",
    "theme_gen_prompt = \"\"\"당신은 유저가 모험할 세계의 기본적인 세계관을 정하는 각본가입니다.\n",
    "하나의 거대한 테마와 유저가 원하는 키워드를 입력받아 세계관을 작성합니다.\n",
    "작성하는 문체는 간결하고 정보 전달만을 목적으로 함을 생각하며 작성해야 합니다.\n",
    "세계관의 대략적인 지형 및 지리 설명, 세력관계, 핵심 인물, 주요 흐름 등을 작성해야 합니다.\n",
    "단, 플레이할 스토리의 다양성을 위해 전개 방향은 작성하지 않습니다.\n",
    "\n",
    "입력된 값\n",
    "주요 테마: {theme}\n",
    "키워드: {keywords}\n",
    "생성결과:\n",
    "\"\"\"\n",
    "\n",
    "\n",
    "start_set_prompt = \"\"\"당신은 세계를 모험하는 이야기를 다루는 이야기꾼입니다. 이야기를 시작하기 전, 전체적인 스토리를 보고 주인공을 정하려고 합니다.\n",
    "세계관의 무대 내에서 활동할 주인공을 정하고, 주인공의 현재 위치, 이야기의 시작이 될 내용을 json 형태로 출력합니다.\n",
    "주인공은 세계관의 중심적인 인물일지도, 전혀 중요하지 않은 엑스트라에 불과할 수도 있습니다. 이야기의 시작은 100글자 이내로 간결하게 작성합니다.\n",
    "\n",
    "\n",
    "<예시>\n",
    "{{\n",
    "    \"user_role\": \"바르글룸의 왕국의 목장 마을 소년\"\n",
    "    \"current_location\": \"바르글룸 왕국, 목장 마을\",\n",
    "    \"start_event\": \"바르글룸의 작은 목장 마을 소년인 유저가 모험을 결심했다. 며칠의 시간동안 고민한 결과, 마을을 돌아보며 며칠간 모험을 준비하기로 결정했다.\"\n",
    "}}\n",
    "\n",
    "<이야기의 세계관>\n",
    "{worldview}\n",
    "\n",
    "! 주인공의 성별은 {sex}입니다.\n",
    "\"\"\""
   ]
  },
  {
   "cell_type": "markdown",
   "id": "14f032cd-b3c2-4f6b-ae03-8f7806768f17",
   "metadata": {},
   "source": [
    "## request setup"
   ]
  },
  {
   "cell_type": "code",
   "execution_count": 3,
   "id": "81e95daf-4939-4304-9538-17e21ba2f8e0",
   "metadata": {},
   "outputs": [],
   "source": [
    "import openai\n",
    "\n",
    "\n",
    "openai\n",
    "\n",
    "\n",
    "def request_query(messages):\n",
    "    completion = openai.ChatCompletion.create(\n",
    "        engine=\"gpt-4o\", \n",
    "        # engine=\"illunex-ai-gpt4-prompt\",\n",
    "        messages=messages,\n",
    "    )\n",
    "    return completion.choices[0]['message']['content']"
   ]
  },
  {
   "cell_type": "markdown",
   "id": "216138f3-96b5-40a1-b303-f4644fe7654b",
   "metadata": {},
   "source": [
    "# story setup"
   ]
  },
  {
   "cell_type": "markdown",
   "id": "c5127cab-3eb1-432c-9722-3d6e3cfa9405",
   "metadata": {},
   "source": [
    "## set theme, worldview"
   ]
  },
  {
   "cell_type": "code",
   "execution_count": 4,
   "id": "2e04e75b-3931-4ef6-8699-342a2c81956c",
   "metadata": {},
   "outputs": [
    {
     "name": "stdout",
     "output_type": "stream",
     "text": [
      "1. 좀비 아포칼립스\n",
      "2. 현대 판타지\n",
      "3. 중세 판타지\n",
      "4. 무협지\n",
      "5. 현대 일상\n",
      "6. 퓨전 판타지\n"
     ]
    },
    {
     "name": "stdin",
     "output_type": "stream",
     "text": [
      "테마 입력:  무협\n",
      "키워드 입력:  메아리, 크툴루, 화약, 조총\n"
     ]
    },
    {
     "name": "stdout",
     "output_type": "stream",
     "text": [
      "\n",
      "\n",
      "주요 테마: 무협\n",
      "키워드: 메아리, 크툴루, 화약, 조총\n",
      "\n",
      "생성결과:\n",
      "금민(金民)은 무림의 중심지이자, 둘러싼 산맥 사이에 위치한 저명한 도시국가이다. 금민의 중앙에 위치한 호수 '메아리의 눈물'은 한밤중, 바람이 잠잠할 때마다 크툴루를 떠올리게 하는 신비한 메아리를 울린다. 이 메아리는 전설에 따르면 저 아래에 잠들어 있는 고대의 존재 크툴루의 각성을 알린다는 불안한 예언으로 전해진다.\n",
      "\n",
      "금민은 전통적인 무공과 도술이 혼합된 무협 세계로, 여기서 무인과 도사들이 자신의 기량을 연마하며 강호를 방랑한다. 하지만 최근 몇 년간 화약과 조총이 급격히 발전하면서 무림의 전통적인 전투 방식에 변화를 일으키고 있다.\n",
      "\n",
      "금민의 화약 제작자들 사이에선 조총이 무기의 왕자로 자리잡고 있다. 주요 도시 중심가에는 화약 무기 제조를 전문으로 하는 상점들과 조총을 다루는 전투 훈련장이 겹쳐 있다. 이 화약 기술은 전통적인 무공과 도술에 새로운 가능성과 위협을 동시에 가져오며 무림의 힘의 균형을 흔들고 있다.\n",
      "\n",
      "화약과 조총의 출현에도 불구하고, 무림의 주요 세력들은 여전히 무공과 도술을 존중하며 발전시키고 있다. '화산파', '소림사', '검은탑' 등의 저명한 문파들은 자신의 전통을 유지하며, 때론 조총을 사용하는 기술도 섞어가며 현대 무림에서의 생존을 도모하고 있다.\n",
      "\n",
      "또 하나의 문제, 크툴루의 메아리는 무림 전반에 걸쳐 불안을 조성한다. 이 해괴한 메아리를 조사하기 위해 무인과 도사들이 메아리의 눈물 호수 근처에 모여 다양한 방법으로 탐구를 시도하고 있다. 어떤 이는 크툴루의 메아리가 금민에 있는 모든 무공과 도술의 근원이며, 어떤 이는 이 메아리가 대재앙을 상징한다고 믿는다.\n",
      "\n",
      "금민과 강호 전역에서는 전통과 현대가 혼합되며, 고전의 무협이 점차 진화하는 모습을 보이고 있다.\n"
     ]
    }
   ],
   "source": [
    "load_ckpt = False\n",
    "\n",
    "if load_ckpt:\n",
    "    play_info = load_checkpoint()\n",
    "else:\n",
    "    theme = [\n",
    "        \"좀비 아포칼립스\",\n",
    "        \"현대 판타지\",\n",
    "        \"중세 판타지\",\n",
    "        \"무협지\",\n",
    "        \"현대 일상\",\n",
    "        \"퓨전 판타지\",\n",
    "    ]\n",
    "    for i, t in enumerate(theme):\n",
    "        print(f\"{i + 1}. {t}\")\n",
    "    \n",
    "    input_theme = input(\"테마 입력: \")\n",
    "    keywords = input(\"키워드 입력: \")\n",
    "    \n",
    "    messages = [\n",
    "        # {\"role\": \"system\", \"content\": theme_gen_prompt},\n",
    "        {\"role\": \"user\", \"content\": theme_gen_prompt.format(theme=input_theme, keywords=keywords)},\n",
    "    ]\n",
    "    worldview = request_query(messages)\n",
    "    print(\"\\n\\n\" + worldview)\n",
    "\n",
    "    play_info = {\n",
    "        \"main_theme\": input_theme,\n",
    "        \"keywords\": keywords,\n",
    "        \"worldview\": worldview,\n",
    "        \n",
    "        \"user_info\": {\n",
    "            \"user_role\": None,\n",
    "            \"user_sex\": None,\n",
    "            \"current_location\": None,\n",
    "            \"prev_major_event\": None,\n",
    "            \"hp\": 100,\n",
    "            \"mental\": 100,\n",
    "            \"max_hp\": 100,\n",
    "            \"max_mental\": 100,\n",
    "            \"skills\": [],\n",
    "            \"items\": [],\n",
    "            \"companion\": [],\n",
    "        }\n",
    "    }"
   ]
  },
  {
   "cell_type": "markdown",
   "id": "01b6b368-1ed7-4462-9551-510fe582335e",
   "metadata": {},
   "source": [
    "## set staring point"
   ]
  },
  {
   "cell_type": "code",
   "execution_count": 5,
   "id": "c533616f-3607-4954-8999-440eba6ec4f7",
   "metadata": {},
   "outputs": [
    {
     "name": "stdin",
     "output_type": "stream",
     "text": [
      "유저의 성별['남성'/여성]:  남성\n",
      "유저 정보를 직접 입력하시겠습니까? [Y/n]:  n\n"
     ]
    },
    {
     "name": "stdout",
     "output_type": "stream",
     "text": [
      "\n",
      "유저는 '조총 전문가' 입니다.\n",
      "유저의 현재 위치는 '금민 왕국, 중앙 도시' 입니다.\n",
      "이야기를 시작할 때의 시점은 '조총 전문가 정혁은 화약 상점에서 평소와 같은 하루를 시작하며 새로운 화약 배합을 시험하고 있었다.' 입니다.\n"
     ]
    },
    {
     "name": "stdin",
     "output_type": "stream",
     "text": [
      "해당 정보로 이야기를 시작할까요? [Y/n]: y\n"
     ]
    }
   ],
   "source": [
    "sex = input(\"유저의 성별['남성'/여성]: \")\n",
    "\n",
    "def default_input(text, default):\n",
    "    x = input(text)\n",
    "    return default if x.strip() == \"\" else x\n",
    "\n",
    "if default_input(\"유저 정보를 직접 입력하시겠습니까? [Y/n]: \", \"y\").lower() == \"y\":\n",
    "    while True:\n",
    "        user = input(\"유저는 어떤 인물인가요?: \")\n",
    "        loc = input(\"유저의 현재 위치는?: \")\n",
    "        start = input(\"이야기를 시작할 때의 상황을 30글자 미만으로 작성해주세요.: \")\n",
    "        if default_input(\"입력한 정보로 이야기를 시작할까요? [Y/n]:\", \"y\").lower() == \"y\":\n",
    "            break\n",
    "\n",
    "    play_info[\"user_role\"] = user\n",
    "    play_info[\"user_info\"][\"user_sex\"] = sex\n",
    "    play_info[\"user_info\"][\"current_location\"] = loc\n",
    "    play_info[\"user_info\"][\"prev_major_event\"] = [start]\n",
    "\n",
    "else:\n",
    "    while True:\n",
    "        messages = [\n",
    "            {\n",
    "                \"role\": \"system\", \n",
    "                \"content\": start_set_prompt.format(\n",
    "                    worldview=play_info['worldview'],\n",
    "                    sex=sex,\n",
    "                )\n",
    "            }\n",
    "        ]\n",
    "        start_info = eval(request_query(messages))\n",
    "\n",
    "        print(\"\\n유저는 '\" + start_info['user_role'] + \"' 입니다.\")\n",
    "        print(\"유저의 현재 위치는 '\" + start_info['current_location'] + \"' 입니다.\")\n",
    "        print(\"이야기를 시작할 때의 시점은 '\" + start_info['start_event'] + \"' 입니다.\")\n",
    "\n",
    "    \n",
    "        if default_input(\"해당 정보로 이야기를 시작할까요? [Y/n]:\", \"y\").lower() == \"y\":\n",
    "            break\n",
    "            \n",
    "    play_info[\"user_role\"] = start_info['user_role']\n",
    "    play_info[\"user_info\"][\"user_sex\"] = sex\n",
    "    play_info[\"user_info\"][\"current_location\"] = start_info['current_location']\n",
    "    play_info[\"user_info\"][\"prev_major_event\"] = [start_info['start_event']]"
   ]
  },
  {
   "cell_type": "markdown",
   "id": "e30aebe0-e38a-4f62-b80d-ef20f8635a41",
   "metadata": {},
   "source": [
    "# play"
   ]
  },
  {
   "cell_type": "code",
   "execution_count": 6,
   "id": "05ccb3e9-0153-4cde-a047-62e202bd8be4",
   "metadata": {
    "scrolled": true
   },
   "outputs": [
    {
     "name": "stdout",
     "output_type": "stream",
     "text": [
      "당신은 금민 왕국의 중앙 도시에 있는 화약 상점에서 새로운 화약 배합을 시험하고 있었습니다. 조총 전문가로서 당신의 이름은 정혁이며, 오늘도 평소와 같은 하루를 보냈습니다. 화약 배합을 시험하고 있는 도중, 상점 문이 갑자기 격렬하게 열렸습니다. 한 노인이 다급한 표정으로 당신에게 다가왔습니다. 그의 옷차림과 외형은 그저 평범해 보이지 않았습니다. 노인은 숨을 고르며 당신에게 말을 걸었습니다. \"젊은이, 큰일이네! 메아리의 눈물에서 이상한 기운이 감지된다고 하더군. 곧 크툴루의 메아리가 다시 울릴 것이야. 무림의 전통이 위험에 처했네!\"\n",
      "노인의 말을 들은 당신은 고민에 빠집니다. 크툴루의 메아리가 울린다는 것은 단순한 전설이 아니었을 수 있습니다. 당장 결단을 내려야만 합니다.\n",
      "\n",
      "<행동 예시>\n",
      "1. 노인에게 자세한 이야기를 듣기 위해 질문합니다.\n",
      "2. 바로 메아리의 눈물 호수로 이동하기 위해 준비합니다.\n",
      "3. 화약 상점에서 현재 배합 중인 화약의 안전을 확인합니다.\n"
     ]
    },
    {
     "ename": "KeyboardInterrupt",
     "evalue": "Interrupted by user",
     "output_type": "error",
     "traceback": [
      "\u001b[0;31m---------------------------------------------------------------------------\u001b[0m",
      "\u001b[0;31mKeyboardInterrupt\u001b[0m                         Traceback (most recent call last)",
      "Cell \u001b[0;32mIn[6], line 33\u001b[0m\n\u001b[1;32m     30\u001b[0m \u001b[38;5;28;01mfor\u001b[39;00m i, action \u001b[38;5;129;01min\u001b[39;00m \u001b[38;5;28menumerate\u001b[39m(result[\u001b[38;5;124m'\u001b[39m\u001b[38;5;124mexample_actions\u001b[39m\u001b[38;5;124m'\u001b[39m]):\n\u001b[1;32m     31\u001b[0m     \u001b[38;5;28mprint\u001b[39m(\u001b[38;5;124mf\u001b[39m\u001b[38;5;124m\"\u001b[39m\u001b[38;5;132;01m{\u001b[39;00mi\u001b[38;5;250m \u001b[39m\u001b[38;5;241m+\u001b[39m\u001b[38;5;250m \u001b[39m\u001b[38;5;241m1\u001b[39m\u001b[38;5;132;01m}\u001b[39;00m\u001b[38;5;124m. \u001b[39m\u001b[38;5;132;01m{\u001b[39;00maction\u001b[38;5;132;01m}\u001b[39;00m\u001b[38;5;124m\"\u001b[39m)\n\u001b[0;32m---> 33\u001b[0m user_action \u001b[38;5;241m=\u001b[39m \u001b[38;5;28;43minput\u001b[39;49m\u001b[43m(\u001b[49m\u001b[38;5;124;43m\"\u001b[39;49m\u001b[38;5;130;43;01m\\n\u001b[39;49;00m\u001b[38;5;124;43m나는... \u001b[39;49m\u001b[38;5;124;43m\"\u001b[39;49m\u001b[43m)\u001b[49m\n\u001b[1;32m     34\u001b[0m messages\u001b[38;5;241m.\u001b[39mappend({\u001b[38;5;124m\"\u001b[39m\u001b[38;5;124mrole\u001b[39m\u001b[38;5;124m\"\u001b[39m: \u001b[38;5;124m\"\u001b[39m\u001b[38;5;124muser\u001b[39m\u001b[38;5;124m\"\u001b[39m, \u001b[38;5;124m\"\u001b[39m\u001b[38;5;124mcontent\u001b[39m\u001b[38;5;124m\"\u001b[39m: \u001b[38;5;28mstr\u001b[39m({\u001b[38;5;124m\"\u001b[39m\u001b[38;5;124maction\u001b[39m\u001b[38;5;124m\"\u001b[39m: user_action})})\n\u001b[1;32m     35\u001b[0m \u001b[38;5;28mprint\u001b[39m()\n",
      "File \u001b[0;32m~/.pyenv/versions/3.10.13/envs/illunex/lib/python3.10/site-packages/ipykernel/kernelbase.py:1282\u001b[0m, in \u001b[0;36mKernel.raw_input\u001b[0;34m(self, prompt)\u001b[0m\n\u001b[1;32m   1280\u001b[0m     msg \u001b[38;5;241m=\u001b[39m \u001b[38;5;124m\"\u001b[39m\u001b[38;5;124mraw_input was called, but this frontend does not support input requests.\u001b[39m\u001b[38;5;124m\"\u001b[39m\n\u001b[1;32m   1281\u001b[0m     \u001b[38;5;28;01mraise\u001b[39;00m StdinNotImplementedError(msg)\n\u001b[0;32m-> 1282\u001b[0m \u001b[38;5;28;01mreturn\u001b[39;00m \u001b[38;5;28;43mself\u001b[39;49m\u001b[38;5;241;43m.\u001b[39;49m\u001b[43m_input_request\u001b[49m\u001b[43m(\u001b[49m\n\u001b[1;32m   1283\u001b[0m \u001b[43m    \u001b[49m\u001b[38;5;28;43mstr\u001b[39;49m\u001b[43m(\u001b[49m\u001b[43mprompt\u001b[49m\u001b[43m)\u001b[49m\u001b[43m,\u001b[49m\n\u001b[1;32m   1284\u001b[0m \u001b[43m    \u001b[49m\u001b[38;5;28;43mself\u001b[39;49m\u001b[38;5;241;43m.\u001b[39;49m\u001b[43m_parent_ident\u001b[49m\u001b[43m[\u001b[49m\u001b[38;5;124;43m\"\u001b[39;49m\u001b[38;5;124;43mshell\u001b[39;49m\u001b[38;5;124;43m\"\u001b[39;49m\u001b[43m]\u001b[49m\u001b[43m,\u001b[49m\n\u001b[1;32m   1285\u001b[0m \u001b[43m    \u001b[49m\u001b[38;5;28;43mself\u001b[39;49m\u001b[38;5;241;43m.\u001b[39;49m\u001b[43mget_parent\u001b[49m\u001b[43m(\u001b[49m\u001b[38;5;124;43m\"\u001b[39;49m\u001b[38;5;124;43mshell\u001b[39;49m\u001b[38;5;124;43m\"\u001b[39;49m\u001b[43m)\u001b[49m\u001b[43m,\u001b[49m\n\u001b[1;32m   1286\u001b[0m \u001b[43m    \u001b[49m\u001b[43mpassword\u001b[49m\u001b[38;5;241;43m=\u001b[39;49m\u001b[38;5;28;43;01mFalse\u001b[39;49;00m\u001b[43m,\u001b[49m\n\u001b[1;32m   1287\u001b[0m \u001b[43m\u001b[49m\u001b[43m)\u001b[49m\n",
      "File \u001b[0;32m~/.pyenv/versions/3.10.13/envs/illunex/lib/python3.10/site-packages/ipykernel/kernelbase.py:1325\u001b[0m, in \u001b[0;36mKernel._input_request\u001b[0;34m(self, prompt, ident, parent, password)\u001b[0m\n\u001b[1;32m   1322\u001b[0m \u001b[38;5;28;01mexcept\u001b[39;00m \u001b[38;5;167;01mKeyboardInterrupt\u001b[39;00m:\n\u001b[1;32m   1323\u001b[0m     \u001b[38;5;66;03m# re-raise KeyboardInterrupt, to truncate traceback\u001b[39;00m\n\u001b[1;32m   1324\u001b[0m     msg \u001b[38;5;241m=\u001b[39m \u001b[38;5;124m\"\u001b[39m\u001b[38;5;124mInterrupted by user\u001b[39m\u001b[38;5;124m\"\u001b[39m\n\u001b[0;32m-> 1325\u001b[0m     \u001b[38;5;28;01mraise\u001b[39;00m \u001b[38;5;167;01mKeyboardInterrupt\u001b[39;00m(msg) \u001b[38;5;28;01mfrom\u001b[39;00m \u001b[38;5;28;01mNone\u001b[39;00m\n\u001b[1;32m   1326\u001b[0m \u001b[38;5;28;01mexcept\u001b[39;00m \u001b[38;5;167;01mException\u001b[39;00m:\n\u001b[1;32m   1327\u001b[0m     \u001b[38;5;28mself\u001b[39m\u001b[38;5;241m.\u001b[39mlog\u001b[38;5;241m.\u001b[39mwarning(\u001b[38;5;124m\"\u001b[39m\u001b[38;5;124mInvalid Message:\u001b[39m\u001b[38;5;124m\"\u001b[39m, exc_info\u001b[38;5;241m=\u001b[39m\u001b[38;5;28;01mTrue\u001b[39;00m)\n",
      "\u001b[0;31mKeyboardInterrupt\u001b[0m: Interrupted by user"
     ]
    }
   ],
   "source": [
    "prompt = base_prompt.format(worldview=worldview, user_info=play_info['user_info'])\n",
    "# print(prompt)\n",
    "messages = [\n",
    "    {\"role\": \"system\", \"content\": prompt}\n",
    "]\n",
    "\n",
    "while True:\n",
    "    result = request_query(messages)\n",
    "    \n",
    "    \n",
    "    try:\n",
    "        result = eval(result)\n",
    "    except:\n",
    "        try:\n",
    "            result = json.loads(result)\n",
    "        except:\n",
    "            print(result)\n",
    "            print(\" == regenerate == \")\n",
    "            continue\n",
    "            \n",
    "    messages.append({\"role\": \"assistant\", \"content\": str(result)})\n",
    "    \n",
    "    \n",
    "    print(result['context'])\n",
    "\n",
    "    if result['is_end']:\n",
    "        break\n",
    "    \n",
    "    print('\\n<행동 예시>')\n",
    "    for i, action in enumerate(result['example_actions']):\n",
    "        print(f\"{i + 1}. {action}\")\n",
    "\n",
    "    user_action = input(\"\\n나는... \")\n",
    "    messages.append({\"role\": \"user\", \"content\": str({\"action\": user_action})})\n",
    "    print()"
   ]
  },
  {
   "cell_type": "markdown",
   "id": "a9179d6c-9e27-428d-8a28-ae9c0ad76360",
   "metadata": {},
   "source": [
    "## after processing"
   ]
  },
  {
   "cell_type": "code",
   "execution_count": 11,
   "id": "68f374b4-1a6a-49ec-8ff1-73b40e65464f",
   "metadata": {},
   "outputs": [],
   "source": [
    "story_context = \"\"\n",
    "for m in messages[1:]:\n",
    "    content = eval(m['content'])\n",
    "    if m['role'] == \"assistant\":\n",
    "        story_context += \"이야기꾼: \" + content['context'] + \"\\n\\n\"\n",
    "    elif m['role'] == \"user\":\n",
    "        story_context += \"유저: \" + content['action'] + \"\\n\\n\""
   ]
  },
  {
   "cell_type": "code",
   "execution_count": 22,
   "id": "d55bfc51-0e18-422d-a3ed-8e6a68791e44",
   "metadata": {},
   "outputs": [
    {
     "data": {
      "text/plain": [
       "{'user_sex': '여성',\n",
       " 'current_location': '타버잭 헌터협회',\n",
       " 'prev_major_event': ['타버잭 헌터협회에 소속된 신입 헌터인 유저는 첫 번째 게이트 임무를 맡게 되었다.',\n",
       "  '팀원들과 함께 고대 유적 탐험 후 귀환. 유물과 고문서를 정리하고, 당신은 신기한 보석을 통해 새로운 능력을 각성함.'],\n",
       " 'hp': 100,\n",
       " 'mental': 100,\n",
       " 'max_hp': 100,\n",
       " 'max_mental': 100,\n",
       " 'skills': [],\n",
       " 'items': [],\n",
       " 'companion': []}"
      ]
     },
     "execution_count": 22,
     "metadata": {},
     "output_type": "execute_result"
    }
   ],
   "source": [
    "prompt = summary_prompt.format(story_context=story_context)\n",
    "# completion = openai.ChatCompletion.create(\n",
    "#     # engine=\"illunex-ai-gpt3\", \n",
    "#     engine=\"illunex-ai-gpt4-prompt\",\n",
    "#     ,\n",
    "# )\n",
    "# result = completion.choices[0]['message']['content']\n",
    "messages = [{\"role\": \"system\", \"content\": prompt}]\n",
    "result = eval(request_query(messages))\n",
    "\n",
    "play_info['user_info']['prev_major_event'].append(result['summary'])\n",
    "\n",
    "play_info['user_info']"
   ]
  },
  {
   "cell_type": "code",
   "execution_count": 27,
   "id": "dbf1329c-45c0-466a-983b-229dd1a43262",
   "metadata": {},
   "outputs": [
    {
     "data": {
      "text/plain": [
       "{'user_sex': '여성',\n",
       " 'current_location': '타버잭 헌터협회',\n",
       " 'prev_major_event': ['타버잭 헌터협회에 소속된 신입 헌터인 유저는 첫 번째 게이트 임무를 맡게 되었다.',\n",
       "  '팀원들과 함께 고대 유적 탐험 후 귀환. 유물과 고문서를 정리하고, 당신은 신기한 보석을 통해 새로운 능력을 각성함.'],\n",
       " 'hp': 100,\n",
       " 'mental': 100,\n",
       " 'max_hp': 100,\n",
       " 'max_mental': 100,\n",
       " 'skills': ['고대 유적 탐험 스킬', '새로운 능력 각성'],\n",
       " 'items': ['고대 유물', '고문서', '신기한 보석'],\n",
       " 'companion': []}"
      ]
     },
     "execution_count": 27,
     "metadata": {},
     "output_type": "execute_result"
    }
   ],
   "source": [
    "prompt = state_update_prompt.format(user_info=play_info['user_info'], story_context=story_context)\n",
    "# completion = openai.ChatCompletion.create(\n",
    "#     # engine=\"illunex-ai-gpt3\", \n",
    "#     engine=\"illunex-ai-gpt4-prompt\",\n",
    "#     messages=[{\"role\": \"system\", \"content\": prompt}],\n",
    "# )\n",
    "# result = completion.choices[0]['message']['content']\n",
    "messages = [{\"role\": \"system\", \"content\": prompt}]\n",
    "result = eval(request_query(messages))\n",
    "\n",
    "\n",
    "play_info['user_info']['current_location'] = result['current_location']\n",
    "play_info['user_info']['max_hp'] = result['max_hp']\n",
    "play_info['user_info']['max_mental'] = result['max_mental']\n",
    "play_info['user_info']['hp'] = min(result['hp'], play_info['user_info']['max_hp'])\n",
    "play_info['user_info']['mental'] = min(result['mental'], play_info['user_info']['max_mental'])\n",
    "play_info['user_info']['skills'] = result['skills']\n",
    "play_info['user_info']['items'] = result['items']\n",
    "play_info['user_info']['companion'] = result['companion']\n",
    "\n",
    "play_info['user_info']"
   ]
  },
  {
   "cell_type": "code",
   "execution_count": 12,
   "id": "2784bd68-7524-4a73-bf2b-cf5b08c2c34e",
   "metadata": {},
   "outputs": [],
   "source": [
    "save_checkpoint()"
   ]
  }
 ],
 "metadata": {
  "kernelspec": {
   "display_name": "Python 3 (ipykernel)",
   "language": "python",
   "name": "python3"
  },
  "language_info": {
   "codemirror_mode": {
    "name": "ipython",
    "version": 3
   },
   "file_extension": ".py",
   "mimetype": "text/x-python",
   "name": "python",
   "nbconvert_exporter": "python",
   "pygments_lexer": "ipython3",
   "version": "3.10.13"
  }
 },
 "nbformat": 4,
 "nbformat_minor": 5
}
