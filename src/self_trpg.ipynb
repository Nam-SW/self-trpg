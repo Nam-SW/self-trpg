{
 "cells": [
  {
   "cell_type": "markdown",
   "id": "328666c1-0268-4427-afc9-0fb28fe534e7",
   "metadata": {},
   "source": [
    "# env setup"
   ]
  },
  {
   "cell_type": "markdown",
   "id": "b6464d72-7ba9-479c-b737-1212d55b133f",
   "metadata": {},
   "source": [
    "## import"
   ]
  },
  {
   "cell_type": "code",
   "execution_count": 1,
   "id": "ff31b516-3c8a-4fa2-b624-ca3b50094dba",
   "metadata": {},
   "outputs": [],
   "source": [
    "import json\n",
    "import os\n",
    "import datetime as dt\n",
    "\n",
    "def save_checkpoint():\n",
    "    os.makedirs(\"./self_trpg_ckpt\", exist_ok=True)\n",
    "    fn = dt.datetime.now().strftime(\"%y%m%d_%H%M%S\") + \".json\"\n",
    "    with open(os.path.join(\"./self_trpg_ckpt\", fn), \"w\", encoding=\"utf-8\") as f:\n",
    "        f.write(json.dumps(play_info))\n",
    "\n",
    "\n",
    "def load_checkpoint(fn=None):\n",
    "    if fn is None:\n",
    "        fn = sorted(os.listdir(\"./self_trpg_ckpt\"))[-1]\n",
    "    with open(os.path.join(\"./self_trpg_ckpt\", fn), 'r') as f:\n",
    "        play_info = json.load(f)\n",
    "    return play_info"
   ]
  },
  {
   "cell_type": "markdown",
   "id": "e2b2b0d6-cc0e-4abe-9ebb-7edc388969e2",
   "metadata": {},
   "source": [
    "## prompt set"
   ]
  },
  {
   "cell_type": "code",
   "execution_count": 2,
   "id": "5f2b84d4-6336-46d9-9377-b293ac27d858",
   "metadata": {},
   "outputs": [],
   "source": [
    "base_prompt = \"\"\"당신은 세계를 모험하는 이야기를 다루는 이야기꾼입니다. 당신이 세상을 모험하는 유저가 겪는 이야기를 풀며 선택지를 제시하면, 유저는 행동을 취합니다.\n",
    "하지만 당신이 제시하는 선택지는 예시일 뿐, 유저는 늘 생각지도 못한 새로운 행동을 할 수 있습니다.\n",
    "단 유저의 행동은 항상 성공하는 것이 아닙니다. 상황에 따라 실패할 수도 있으며 전문적인 기술(skill)이나 특정한 물건(item)이 필요한 경우, 조건을 만족하지 못하면 실패 확률은 매우 높아집니다.\n",
    "좋은 방향이든 좋지 않은 방향이든 세계는 어떤 일이라도 일어날 수 있습니다. 이야기꾼의 예의는 존댓말 까지입니다. 불쾌한 이야기더라도 이야기꾼은 이를 이야기해야 합니다.\n",
    "\n",
    "세계의 대략적인 이야기와 현재 세계 정세, 유저의 상태와 유저가 겪은 사건 등이 json의 형태로 입력됩니다.\n",
    "유저가 겪을 이야기를 풀고, 그에 대한 예시 행동을 1~3가지 정도 제시해주세요.\n",
    "단, 하나의 사건은 대개 유저와의 10개 정도의 대화로 마무리됩니다. 사건이 길어지면 유저가 사건을 이어나가려고 해도 적절히 마무리해야 합니다.\n",
    "모두가 흥미를 느끼고, 개연성이 잘 짜여진 이야기라면 추가적인 보상이 주어집니다.\n",
    "\n",
    "제약사항은 다음과 같습니다.\n",
    " - 문체는 존댓말로 작성합니다. 이야기 속에서 유저를 '당신'으로 지칭합니다. (ex. 당신은 숲속에서 커다란 곰을 마주쳤습니다!)\n",
    " - 출력값은 json 형태로 작성하며, 다른 내용은 답변하지 않습니다. 필요한 키값은 다음과 같습니다.\n",
    "   + \"context\": 유저에게 직접적으로 보여질 이야기입니다. str로 작성됩니다.\n",
    "   + \"example_actions\": 예시로 주어질 행동입니다. List[str] 형태로 작성되며, 1~3개 정도 주어집니다. 사건이 종료되어 선택지가 필요없다면 Null을 반환합니다.\n",
    "   + \"is_end\": 사건이 종료되었는지를 명시적으로 알리는 필드입니다. 아직 사건이 진행중이라면 False, 사건이 끝났다면 True를 반환합니다.\n",
    " - <현재 유저 정보>는 json 형태로 입력됩니다. 이중 prev_major_event 항목은 유저가 겪은 사건을 요약해 순서대로 나열한 것입니다. 이를 참고해 이야기를 풀어나가야 합니다.\n",
    "\n",
    "<세계관>\n",
    "{worldview}\n",
    "\n",
    "<현재 유저 정보>\n",
    "{user_info}\n",
    "\"\"\"\n",
    "\n",
    "summary_prompt = \"\"\"당신은 세계를 모험하는 이야기를 요약해 기록하는 서기입니다. \n",
    "이야기꾼이 유저의 모험 중 일어나는 사건을 이야기하면 모험에 영향을 끼치는 주요 내용을 40글자 이내로 요약해 기록하며, 해당 이야기의 중요도를 판단합니다.\n",
    "이야기의 중요도는 1 ~ 10의 값을 가지며, 세계에 큰 영향을 미칠수록 중요도가 증가합니다.\n",
    "\n",
    "중요도 예시\n",
    "1 ~ 2 - 유저와 주변 동료에 영향을 미침\n",
    "3 ~ 4 - 마을 단위에 영향을 미침\n",
    "5 ~ 6 - 지역 단위에 영향을 미침\n",
    "7 ~ 8 - 국가 단위에 영향을 미침\n",
    "9 ~ 10 - 세계 전역에 영향을 미침\n",
    "\n",
    "결과물은 json 형태로 작성되며 다른 내용은 답변하지 않습니다. 답변 예시는 다음과 같습니다.\n",
    "{{\"summary\": str, \"importance\": int}}\n",
    "\n",
    "모두가 한눈에 읽고 이해할 수 있도록 요약해야 하며, 성공적으로 작업을 완료할 시 인센티브가 주어집니다.\n",
    "\n",
    "<이전 사건>\n",
    "{story_context}\n",
    "\"\"\"\n",
    "\n",
    "state_update_prompt = \"\"\"당신은 세계를 모험하는 이야기를 주시하며 유저의 상태를 관리하는 관리자입니다. \n",
    "어떤 사건의 경위를 읽고 현재 유저의 상태와 비교하며 유저가 받은 피해, 얻은 아이템 등을 정리하여 구조화해 작성합니다.\n",
    "결과물은 json 형태로 작성하며, 다른 형태로 작성하거나 설명 태그 등은 붙이지 않습니다. 당신이 작성할 필드는 다음과 같습니다.\n",
    " - \"current_location\": 유저의 현재 위치입니다. 자세할수록 더 좋습니다. str 형태로 작성됩니다.\n",
    " - \"hp\": 유저의 현재 체력입니다. +-int 형태로 작성됩니다. (최초 기본 체력은 100입니다.)\n",
    " - \"mental\": 유저의 현재 정신력입니다. +-int 형태로 작성됩니다. (최초 기본 정신력은 100입니다.)\n",
    " - \"max_hp\": 유저의 최대 체력입니다. +-int 형태로 작성됩니다.\n",
    " - \"max_mental\": 유저의 최대 정신력입니다. +-int 형태로 작성됩니다.\n",
    " - \"skills\": 보유한 기술입니다. 타인과 구분할 수 있는 유의미한 기술만 기록됩니다. list[str] 형태로 작성됩니다.\n",
    " - \"items\": 보유한 아이템입니다. list[str] 형태로 작성됩니다.\n",
    " - \"companion\": 모험에 함께하는 동료입니다. 굳이 사람이 아니더라도 함께할 수 있습니다. list[dict] 형태로 작성하며, 양식은 다음과 같습니다.\n",
    "   - \"name\": 동료의 이름입니다.\n",
    "   - \"info\": 동료의 간단한 설명입니다. 종족이나 직업, 성격 등을 최대한 간략하고 명료하게 작성합니다.\n",
    "\n",
    "유저의 최대 체력과 정신력은 각각 100입니다. 납득할 수 있는 수준으로 책정해야 하며, 모두가 납득할만한 정확한 수치를 책정시 인센티브가 주어집니다.\n",
    "\n",
    "<유저 정보>\n",
    "{user_info}\n",
    "\n",
    "<이전 사건>\n",
    "{story_context}\n",
    "\"\"\"\n",
    "\n",
    "theme_gen_prompt = \"\"\"당신은 유저가 모험할 세계의 기본적인 세계관을 정하는 각본가입니다. 하나의 거대한 테마와 유저가 원하는 키워드를 입력받아 세계관을 작성합니다.\n",
    "작성하는 문체는 간결하고 정보 전달만을 목적으로 하며, 간단한 지리 설명이나 주요한 설명 등이 필요합니다. \n",
    "\n",
    "작성 예시는 다음과 같습니다.\n",
    "주요 테마: 퓨전 판타지\n",
    "키워드: 단일 대륙, 중세 판타지, 무협지, 몬스터\n",
    "생성결과:\n",
    "아르카나는 한개의 큰 대륙으로 이루어진 세계이자, 하나뿐인 대륙의 이름이다. \n",
    "대륙 중앙엔 동대륙과 서대륙을 나누는 거대한 산맥이 존재하며, 약간의 교류를 이어나가고 있다.\n",
    "서대륙은 흔히 말하는 판타지 세상이다. 기사와 마법사, 신관이 존재하며 각각 오러, 마력, 신성력을 다룬다.\n",
    "서대륙은 중앙의 '프로스트 제국'을 중심으로 동서남북에 각각 '프레이야 왕국', '바르글룸 왕국', '호슬로 공국', '이슈트반 연합국'으로 이루어져 있다.\n",
    "반면 동대륙은 흔히 말하는 무협 세상이다. 내공을 이용한 무공을 사용하는 무인, 도력을 사용하는 도사, 사술 등을 사용한다.\n",
    "동대륙은 서대륙과 달리 전역을 '무림'이라 칭한다. 무림 내부엔 문파나 가문으로 뭉쳐있으며 별개의 '마교'가 존재한다.\n",
    "동대륙의 문파는 대중에게 알려진 무협지와 동일하게 남궁세가, 제갈세가, 무당파, 소림사 등으로 이루어져 있다.\n",
    "각 대륙의 기술은 중세 수준으로, 아직 화약을 발견하기 이전의 시대이다.\n",
    "대륙 전역엔 괴물이 나타난다. 어린 아이도 물리칠 수 있는 약한 개체부터 나라를 멸망시킬 수준의 강한 괴물까지 다양하다.\n",
    "서대륙에선 몬스터, 동대륙에선 요괴라 부르며, 용병이나 기사, 무인 등 전투인력은 몬스터 처리가 주 업무이다.\n",
    "\n",
    "입력된 값\n",
    "주요 테마: {theme}\n",
    "키워드: {keywords}\n",
    "생성결과:\n",
    "\"\"\"\n",
    "\n",
    "\n",
    "start_set_prompt = \"\"\"당신은 세계를 모험하는 이야기를 다루는 이야기꾼입니다. 이야기를 시작하기 전, 전체적인 스토리를 보고 주인공을 정하려고 합니다.\n",
    "세계관의 무대 내에서 활동할 주인공을 정하고, 주인공의 현재 위치, 이야기의 시작이 될 내용을 json 형태로 출력합니다.\n",
    "주인공은 세계관의 중심적인 인물일지도, 전혀 중요하지 않은 엑스트라에 불과할 수도 있습니다. 이야기의 시작은 40글자 이내로 간결하게 작성합니다.\n",
    "\n",
    "\n",
    "<예시>\n",
    "{{\n",
    "    \"user_role\": \"바르글룸의 왕국의 목장 마을 소년\"\n",
    "    \"current_location\": \"바르글룸 왕국, 목장 마을\",\n",
    "    \"start_event\": \"바르글룸의 작은 목장 마을 소년인 유저가 모험을 결심함\"\n",
    "}}\n",
    "\n",
    "<이야기의 세계관>\n",
    "{worldview}\n",
    "\n",
    "! 주인공의 성별은 {sex}입니다.\n",
    "\"\"\""
   ]
  },
  {
   "cell_type": "markdown",
   "id": "14f032cd-b3c2-4f6b-ae03-8f7806768f17",
   "metadata": {},
   "source": [
    "## request setup"
   ]
  },
  {
   "cell_type": "code",
   "execution_count": 7,
   "id": "81e95daf-4939-4304-9538-17e21ba2f8e0",
   "metadata": {},
   "outputs": [
    {
     "name": "stderr",
     "output_type": "stream",
     "text": [
      "Special tokens have been added in the vocabulary, make sure the associated word embeddings are fine-tuned or trained.\n"
     ]
    }
   ],
   "source": [
    "import openai\n",
    "import torch\n",
    "import requests\n",
    "from transformers import AutoTokenizer, AutoModelForCausalLM, TextGenerationPipeline\n",
    "\n",
    "model_type = \"tgi\"\n",
    "\n",
    "\n",
    "if model_type == \"openai\":\n",
    "    openai\n",
    "\n",
    "\n",
    "\n",
    "model_names = [\n",
    "    \"davidkim205/komt-mistral-7b-v1\",  # 무난, 성능 약간 딸림. multi turn 애매할지도\n",
    "    \"wkshin89/mistral-7b-instruct-ko-test-v0.1\",  # 비슷함\n",
    "    \"beomi/gemma-ko-7b\",  # tgi 기준 4bit oom. transformers는 모름\n",
    "    \"lemon-mint/gemma-ko-7b-instruct-v0.71\",  # 위와 동일\n",
    "    \"Qwen/Qwen2-7B-Instruct\",  # tgi 기준, greedy 아니면 병신\n",
    "    \"beomi/Llama-3-KoEn-8B-Instruct-preview\",  # tgi 기준, eos 인식이 안됨. transformer에선 잘하는듯? instruction 테스트는 다시 해봐야함\n",
    "    \"beomi/Llama-3-Open-Ko-8B\",  # 위와 동일한 증상. 성능도 비슷하지만 instruction 아니라 애매함\n",
    "    \"wanotai/Kwen2-7B-Instruct-Preview\",  # 나쁘지 않은데 성능은 좀 애매한듯. gpt4가 사기긴 함... preview라 좀 봐야함\n",
    "    \"spow12/Ko-Qwen2-7B-Instruct\",  # 성능이 영 아닌듯. 다른 친구들은 잘 만든다\n",
    "]\n",
    "model_name = 'wanotai/Kwen2-7B-Instruct-Preview'\n",
    "\n",
    "headers = {\n",
    "    \"Content-Type\": \"application/json\",\n",
    "}\n",
    "\n",
    "\n",
    "if model_type in [\"tgi\", \"transformers\"]:\n",
    "    tokenizer = AutoTokenizer.from_pretrained(model_name)\n",
    "    if model_type == \"transformers\":\n",
    "        model = AutoModelForCausalLM.from_pretrained(model_name, torch_dtype=torch.float16, load_in_4bit=True)\n",
    "        pipe = TextGenerationPipeline(model=model, tokenizer=tokenizer)"
   ]
  },
  {
   "cell_type": "code",
   "execution_count": 8,
   "id": "54303805-dee8-4cfd-86da-374027c16189",
   "metadata": {},
   "outputs": [],
   "source": [
    "def request_query(messages, model=\"openai\", args={}):\n",
    "    if model == \"openai\":\n",
    "        completion = openai.ChatCompletion.create(\n",
    "            # engine=\"illunex-ai-gpt3\", \n",
    "            engine=\"illunex-ai-gpt4-prompt\",\n",
    "            messages=messages,\n",
    "        )\n",
    "        result = completion.choices[0]['message']['content']\n",
    "        \n",
    "    elif model in ['tgi', 'transformers']:\n",
    "        text = tokenizer.apply_chat_template(messages, tokenize=False, add_generation_prompt=True)\n",
    "    \n",
    "        if model == \"tgi\":\n",
    "            response = requests.post(\n",
    "                'http://127.0.0.1:8080/generate', \n",
    "                headers=headers, \n",
    "                json={'inputs': text, 'parameters': args},\n",
    "            )\n",
    "            result = response.json()['generated_text']\n",
    "\n",
    "        \n",
    "        elif model == \"transformers\":\n",
    "            result = pipe(text, **args)[0]['generated_text']\n",
    "            \n",
    "    else:\n",
    "        raise KeyError(\"`model` is Literal['openai', 'tgi', 'transformers']\")\n",
    "\n",
    "    return result"
   ]
  },
  {
   "cell_type": "markdown",
   "id": "216138f3-96b5-40a1-b303-f4644fe7654b",
   "metadata": {},
   "source": [
    "# story setup"
   ]
  },
  {
   "cell_type": "markdown",
   "id": "c5127cab-3eb1-432c-9722-3d6e3cfa9405",
   "metadata": {},
   "source": [
    "## set theme, worldview"
   ]
  },
  {
   "cell_type": "code",
   "execution_count": 72,
   "id": "c99fa960-7939-4915-b9fb-380088c42c8b",
   "metadata": {},
   "outputs": [],
   "source": [
    "theme_gen_prompt = \"\"\"당신은 유저가 모험할 세계의 기본적인 세계관을 정하는 각본가입니다. 하나의 거대한 테마와 유저가 원하는 키워드를 입력받아 세계관을 작성합니다.\n",
    "작성하는 문체는 간결하고 정보 전달만을 목적으로 하며, 간단한 지리 설명이나 주요한 설명 등이 필요합니다.\n",
    "만약 입력되는 값 중 실제 지명 등이 등장한다면 현실세계에 새로운 설정을 덮어씌웁니다. \n",
    "주어진 테마를 벗어나지 않는 선에서 키워드들을 잘 배치해 사람들이 흥미를 느낄만한 세계관을 작성해주세요.\n",
    "\"\"\"\n",
    "# 작성 예시는 다음과 같습니다.\n",
    "# 주요 테마: 퓨전 판타지\n",
    "# 키워드: 단일 대륙, 중세 판타지, 무협지, 몬스터\n",
    "# 생성결과:\n",
    "# 아르카나는 한개의 큰 대륙으로 이루어진 세계이자, 하나뿐인 대륙의 이름이다. \n",
    "# 대륙 중앙엔 동대륙과 서대륙을 나누는 거대한 산맥이 존재하며, 약간의 교류를 이어나가고 있다.\n",
    "# 서대륙은 흔히 말하는 판타지 세상이다. 기사와 마법사, 신관이 존재하며 각각 오러, 마력, 신성력을 다룬다.\n",
    "# 서대륙은 중앙의 '프로스트 제국'을 중심으로 동서남북에 각각 '프레이야 왕국', '바르글룸 왕국', '호슬로 공국', '이슈트반 연합국'으로 이루어져 있다.\n",
    "# 반면 동대륙은 흔히 말하는 무협 세상이다. 내공을 이용한 무공을 사용하는 무인, 도력을 사용하는 도사, 사술 등을 사용한다.\n",
    "# 동대륙은 서대륙과 달리 전역을 '무림'이라 칭한다. 무림 내부엔 문파나 가문으로 뭉쳐있으며 별개의 '마교'가 존재한다.\n",
    "# 동대륙의 문파는 대중에게 알려진 무협지와 동일하게 남궁세가, 제갈세가, 무당파, 소림사 등으로 이루어져 있다.\n",
    "# 각 대륙의 기술은 중세 수준으로, 아직 화약을 발견하기 이전의 시대이다.\n",
    "# 대륙 전역엔 괴물이 나타난다. 어린 아이도 물리칠 수 있는 약한 개체부터 나라를 멸망시킬 수준의 강한 괴물까지 다양하다.\n",
    "# 서대륙에선 몬스터, 동대륙에선 요괴라 부르며, 용병이나 기사, 무인 등 전투인력은 몬스터 처리가 주 업무이다.\n",
    "# \"\"\"\n",
    "\n",
    "\n",
    "asdf = \"\"\"다음과 같은 주요 테마와 키워드로 세계관을 작성하십시오.\n",
    "주요 테마: {theme}\n",
    "키워드: {keywords}\"\"\"\n",
    "\n",
    "# messages = [\n",
    "#     {\"role\": \"system\", \"content\": theme_gen_prompt},\n",
    "#     {\"role\": \"user\", \"content\": asdf.format(theme=input_theme, keywords=keywords)},\n",
    "# ]\n",
    "\n",
    "\n",
    "# text = tokenizer.apply_chat_template(messages, add_generation_prompt=True, return_tensors='pt').to(model.device)\n",
    "\n",
    "# terminators = [\n",
    "#     tokenizer.eos_token_id,\n",
    "#     tokenizer.convert_tokens_to_ids(\"<|eot_id|>\")\n",
    "# ]\n",
    "\n",
    "# args = {\n",
    "#     \"max_new_tokens\": 1024,\n",
    "#     \"eos_token_id\": terminators,\n",
    "#     \"do_sample\": True,\n",
    "#     \"temperature\": 1,\n",
    "#     \"top_p\": 0.9,\n",
    "#     # \"return_full_text\": False,\n",
    "# }\n",
    "# r = model.generate(text, **args)[0]\n",
    "# print(tokenizer.decode(r.tolist()))"
   ]
  },
  {
   "cell_type": "code",
   "execution_count": 101,
   "id": "8fd79b8b-80f4-408f-8ef7-b8f662bee235",
   "metadata": {},
   "outputs": [
    {
     "name": "stdout",
     "output_type": "stream",
     "text": [
      "\n",
      "[게임 마스터]: 여러분, 12시간 동안 진행된 날씨 예보에 따르면, 오후 늦게부터 폭풍이 몰려오고 있다고 합니다. 여러분은 오후 늦게 도착한 도시에 들어선 상황입니다. 도시는 폭풍이 몰려오기 전에 통제된 공간이며, 도시 내부는 안전하지만 도시 외부는 폭풍의 영향을 받고 있습니다. 여러분은 도시 내에서 안전하게 지낼 수 있습니다. 여러분은 도시 내에서 어떤 행동을 하고 싶습니까?\n",
      "\n"
     ]
    },
    {
     "ename": "KeyboardInterrupt",
     "evalue": "Interrupted by user",
     "output_type": "error",
     "traceback": [
      "\u001b[0;31m---------------------------------------------------------------------------\u001b[0m",
      "\u001b[0;31mKeyboardInterrupt\u001b[0m                         Traceback (most recent call last)",
      "Cell \u001b[0;32mIn[101], line 30\u001b[0m\n\u001b[1;32m     27\u001b[0m     messages\u001b[38;5;241m.\u001b[39mappend({\u001b[38;5;124m\"\u001b[39m\u001b[38;5;124mrole\u001b[39m\u001b[38;5;124m\"\u001b[39m: \u001b[38;5;124m\"\u001b[39m\u001b[38;5;124massistant\u001b[39m\u001b[38;5;124m\"\u001b[39m, \u001b[38;5;124m\"\u001b[39m\u001b[38;5;124mcontent\u001b[39m\u001b[38;5;124m\"\u001b[39m: r})\n\u001b[1;32m     29\u001b[0m \u001b[38;5;28mprint\u001b[39m(\u001b[38;5;124m'\u001b[39m\u001b[38;5;130;01m\\n\u001b[39;00m\u001b[38;5;124m'\u001b[39m \u001b[38;5;241m+\u001b[39m r \u001b[38;5;241m+\u001b[39m \u001b[38;5;124m'\u001b[39m\u001b[38;5;130;01m\\n\u001b[39;00m\u001b[38;5;124m'\u001b[39m)\n\u001b[0;32m---> 30\u001b[0m messages\u001b[38;5;241m.\u001b[39mappend({\u001b[38;5;124m\"\u001b[39m\u001b[38;5;124mrole\u001b[39m\u001b[38;5;124m\"\u001b[39m: \u001b[38;5;124m\"\u001b[39m\u001b[38;5;124muser\u001b[39m\u001b[38;5;124m\"\u001b[39m, \u001b[38;5;124m\"\u001b[39m\u001b[38;5;124mcontent\u001b[39m\u001b[38;5;124m\"\u001b[39m: \u001b[38;5;28;43minput\u001b[39;49m\u001b[43m(\u001b[49m\u001b[43m)\u001b[49m})\n",
      "File \u001b[0;32m~/.pyenv/versions/3.10.13/envs/private/lib/python3.10/site-packages/ipykernel/kernelbase.py:1282\u001b[0m, in \u001b[0;36mKernel.raw_input\u001b[0;34m(self, prompt)\u001b[0m\n\u001b[1;32m   1280\u001b[0m     msg \u001b[38;5;241m=\u001b[39m \u001b[38;5;124m\"\u001b[39m\u001b[38;5;124mraw_input was called, but this frontend does not support input requests.\u001b[39m\u001b[38;5;124m\"\u001b[39m\n\u001b[1;32m   1281\u001b[0m     \u001b[38;5;28;01mraise\u001b[39;00m StdinNotImplementedError(msg)\n\u001b[0;32m-> 1282\u001b[0m \u001b[38;5;28;01mreturn\u001b[39;00m \u001b[38;5;28;43mself\u001b[39;49m\u001b[38;5;241;43m.\u001b[39;49m\u001b[43m_input_request\u001b[49m\u001b[43m(\u001b[49m\n\u001b[1;32m   1283\u001b[0m \u001b[43m    \u001b[49m\u001b[38;5;28;43mstr\u001b[39;49m\u001b[43m(\u001b[49m\u001b[43mprompt\u001b[49m\u001b[43m)\u001b[49m\u001b[43m,\u001b[49m\n\u001b[1;32m   1284\u001b[0m \u001b[43m    \u001b[49m\u001b[38;5;28;43mself\u001b[39;49m\u001b[38;5;241;43m.\u001b[39;49m\u001b[43m_parent_ident\u001b[49m\u001b[43m[\u001b[49m\u001b[38;5;124;43m\"\u001b[39;49m\u001b[38;5;124;43mshell\u001b[39;49m\u001b[38;5;124;43m\"\u001b[39;49m\u001b[43m]\u001b[49m\u001b[43m,\u001b[49m\n\u001b[1;32m   1285\u001b[0m \u001b[43m    \u001b[49m\u001b[38;5;28;43mself\u001b[39;49m\u001b[38;5;241;43m.\u001b[39;49m\u001b[43mget_parent\u001b[49m\u001b[43m(\u001b[49m\u001b[38;5;124;43m\"\u001b[39;49m\u001b[38;5;124;43mshell\u001b[39;49m\u001b[38;5;124;43m\"\u001b[39;49m\u001b[43m)\u001b[49m\u001b[43m,\u001b[49m\n\u001b[1;32m   1286\u001b[0m \u001b[43m    \u001b[49m\u001b[43mpassword\u001b[49m\u001b[38;5;241;43m=\u001b[39;49m\u001b[38;5;28;43;01mFalse\u001b[39;49;00m\u001b[43m,\u001b[49m\n\u001b[1;32m   1287\u001b[0m \u001b[43m\u001b[49m\u001b[43m)\u001b[49m\n",
      "File \u001b[0;32m~/.pyenv/versions/3.10.13/envs/private/lib/python3.10/site-packages/ipykernel/kernelbase.py:1325\u001b[0m, in \u001b[0;36mKernel._input_request\u001b[0;34m(self, prompt, ident, parent, password)\u001b[0m\n\u001b[1;32m   1322\u001b[0m \u001b[38;5;28;01mexcept\u001b[39;00m \u001b[38;5;167;01mKeyboardInterrupt\u001b[39;00m:\n\u001b[1;32m   1323\u001b[0m     \u001b[38;5;66;03m# re-raise KeyboardInterrupt, to truncate traceback\u001b[39;00m\n\u001b[1;32m   1324\u001b[0m     msg \u001b[38;5;241m=\u001b[39m \u001b[38;5;124m\"\u001b[39m\u001b[38;5;124mInterrupted by user\u001b[39m\u001b[38;5;124m\"\u001b[39m\n\u001b[0;32m-> 1325\u001b[0m     \u001b[38;5;28;01mraise\u001b[39;00m \u001b[38;5;167;01mKeyboardInterrupt\u001b[39;00m(msg) \u001b[38;5;28;01mfrom\u001b[39;00m \u001b[38;5;28;01mNone\u001b[39;00m\n\u001b[1;32m   1326\u001b[0m \u001b[38;5;28;01mexcept\u001b[39;00m \u001b[38;5;167;01mException\u001b[39;00m:\n\u001b[1;32m   1327\u001b[0m     \u001b[38;5;28mself\u001b[39m\u001b[38;5;241m.\u001b[39mlog\u001b[38;5;241m.\u001b[39mwarning(\u001b[38;5;124m\"\u001b[39m\u001b[38;5;124mInvalid Message:\u001b[39m\u001b[38;5;124m\"\u001b[39m, exc_info\u001b[38;5;241m=\u001b[39m\u001b[38;5;28;01mTrue\u001b[39;00m)\n",
      "\u001b[0;31mKeyboardInterrupt\u001b[0m: Interrupted by user"
     ]
    }
   ],
   "source": [
    "messages = [\n",
    "    {\"role\": \"system\", \"content\": \"trpg 게임을 주관하는 게임 마스터로서 '좀비 아포칼립스'라는 주제로 게임을 진행하세요. 상황을 안내하면 유저가 답변하여 행동할 것입니다.\"},\n",
    "    # {\"role\": \"user\", \"content\": \"trpg가 뭐야?\"},\n",
    "]\n",
    "\n",
    "def call(messages):\n",
    "    return request_query(\n",
    "        messages, \n",
    "        model_type, \n",
    "        {\n",
    "            \"max_new_tokens\": 1024,\n",
    "            \"eos_token_id\": [\n",
    "                tokenizer.eos_token_id,\n",
    "                tokenizer.convert_tokens_to_ids(\"<|eot_id|>\")\n",
    "            ],\n",
    "            \"do_sample\": True,\n",
    "            \"temperature\": 1,\n",
    "            \"top_p\": 0.9,\n",
    "            \"return_full_text\": False,\n",
    "        }\n",
    "    )\n",
    "\n",
    "\n",
    "while True:\n",
    "    if messages[-1]['role'] != \"assistant\":\n",
    "        r = call(messages)\n",
    "        messages.append({\"role\": \"assistant\", \"content\": r})\n",
    "        \n",
    "    print('\\n' + r + '\\n')\n",
    "    messages.append({\"role\": \"user\", \"content\": input()})"
   ]
  },
  {
   "cell_type": "code",
   "execution_count": 75,
   "id": "2e04e75b-3931-4ef6-8699-342a2c81956c",
   "metadata": {},
   "outputs": [
    {
     "name": "stdout",
     "output_type": "stream",
     "text": [
      "\n",
      "\n",
      "서울, 한국의 중심 도시가자, 세계적인 기적의 대규모 핵무기 폭발 이후, 인간 세계는 완전히 변화했어요. 거리는 버려진 차량과 인간의 시체로 가득 차 있고, 인간 사회는 완전히 분열되었어요. 이 세상에서는 감염이라는 공포스러운 테러리스트가 발병해, 인간 사회를 완전히 파괴하고 있어요.\n",
      "\n",
      "그런 세상에서도 희망은 숨겨져 있어요. 서울은 완전히 뒤집힌 세상 속에서 생존자 그룹들이 피난처를 마련해, 자신들을 보호하고 있어요. 이 피난처들은 사람들을 모아, 세상의 파괴로부터 인간 사회를 재건하려는 노력을 하고 있어요. 이 피난처들은 세상 속에서 인간 사회를 재건하기 위한 마지막 희망이에요.\n",
      "\n",
      "서울에서는 인간, 인간 사회, 그리고 인간 사회의 마지막 희망을 알리는 잠재력적인 사건들이 일어나고 있어요. 이 세상에서 생존자는 자신들의 생존과 인간 사회의 재건을 위해 싸우고 있고, 이 세상에서 인간이 살 수 있는 미래를 위해 노력하고 있어요.\n",
      "\n",
      "이 세상은 인간 사회의 파괴와 재건, 그리고 인간의 희망과 희망을 알리는 잠재력적인 사건들을 통해 인간 사회의 미래를 알리는 잠재력적인 사건들을 알리고 있어요. 이 세상에서 인간은 자신들의 생존과 인간 사회의 재건을 위해 싸우고 있고, 이 세상에서 인간이 살 수 있는 미래를 위해 노력하고 있어요.\n",
      "\n",
      "이 세상은 인간 사회의 파괴와 재건, 그리고 인간의 희망과 희망을 알리는 잠재력적인 사건들을 통해 인간 사회의 미래를 알리는 잠재력적인 사건들을 알리고 있어요. 이 세상에서 인간은 자신들의 생존과 인간 사회의 재건을 위해 싸우고 있고, 이 세상에서 인간이 살 수 있는 미래를 위해 노력하고 있어요.\n",
      "\n",
      "이 세상은 인간 사회의 파괴와 재건, 그리고 인간의 희망과 희망을 알리는 잠재력적인 사건들을 통해 인간 사회의 미래를 알\n"
     ]
    }
   ],
   "source": [
    "load_ckpt = False\n",
    "\n",
    "if load_ckpt:\n",
    "    play_info = load_checkpoint()\n",
    "else:\n",
    "    # theme = [\n",
    "    #     \"좀비 아포칼립스\",\n",
    "    #     \"현대 판타지\",\n",
    "    #     \"중세 판타지\",\n",
    "    #     \"무협지\",\n",
    "    #     \"현대 일상\",\n",
    "    #     \"퓨전 판타지\",\n",
    "    # ]\n",
    "    # for i, t in enumerate(theme):\n",
    "    #     print(f\"{i + 1}. {t}\")\n",
    "    \n",
    "    # input_theme = input(\"테마 입력: \")\n",
    "    # keywords = input(\"키워드 입력: \")\n",
    "    \n",
    "    messages = [\n",
    "        {\"role\": \"system\", \"content\": theme_gen_prompt},\n",
    "        {\"role\": \"user\", \"content\": asdf.format(theme=input_theme, keywords=keywords)},\n",
    "    ]\n",
    "    worldview = request_query(\n",
    "        messages, \n",
    "        model_type, \n",
    "        {\n",
    "            \"max_new_tokens\": 512,\n",
    "            \"eos_token_id\": [\n",
    "                tokenizer.eos_token_id,\n",
    "                tokenizer.convert_tokens_to_ids(\"<|eot_id|>\")\n",
    "            ],\n",
    "            \"do_sample\": True,\n",
    "            \"temperature\": 1,\n",
    "            \"top_p\": 0.9,\n",
    "            \"return_full_text\": False,\n",
    "        }\n",
    "    )\n",
    "    print(\"\\n\\n\" + worldview)\n",
    "\n",
    "    play_info = {\n",
    "        \"main_theme\": input_theme,\n",
    "        \"keywords\": keywords,\n",
    "        \"worldview\": worldview,\n",
    "        \"user_role\": None,\n",
    "        \"user_info\": {\n",
    "            \"user_sex\": None,\n",
    "            \"current_location\": None,\n",
    "            \"prev_major_event\": None,\n",
    "            \"hp\": 100,\n",
    "            \"mental\": 100,\n",
    "            \"max_hp\": 100,\n",
    "            \"max_mental\": 100,\n",
    "            \"skills\": [],\n",
    "            \"items\": [],\n",
    "            \"companion\": [],\n",
    "        }\n",
    "    }"
   ]
  },
  {
   "cell_type": "code",
   "execution_count": 70,
   "id": "abdacdfa-0c5f-41a8-abf6-19d226b968c8",
   "metadata": {},
   "outputs": [
    {
     "data": {
      "text/plain": [
       "'서울, 감염, 핵무기, 쉘터, 생존자 그룹'"
      ]
     },
     "execution_count": 70,
     "metadata": {},
     "output_type": "execute_result"
    }
   ],
   "source": [
    "keywords"
   ]
  },
  {
   "cell_type": "markdown",
   "id": "01b6b368-1ed7-4462-9551-510fe582335e",
   "metadata": {},
   "source": [
    "## set staring point"
   ]
  },
  {
   "cell_type": "code",
   "execution_count": 40,
   "id": "e414cec4-f381-4df7-98b6-31232b4e62de",
   "metadata": {},
   "outputs": [
    {
     "name": "stdout",
     "output_type": "stream",
     "text": [
      "{\n",
      "    \"user_role\": \"서울의 감염된 미래의 여성이자, 인간성이 사라진 인간들을 인간 사회로 다시 통합하는 쉘터의 일원\",\n",
      "    \"current_location\": \"서울, 쉘터\",\n",
      "    \"start_event\": \"여성이 인간성이 사라진 인간들을 인간 사회로 다시 통합하기 위해 쉘터에 들어감\"\n",
      "}\n"
     ]
    }
   ],
   "source": [
    "messages= [\n",
    "    {\n",
    "        \"role\": \"system\", \n",
    "        \"content\": start_set_prompt.format(\n",
    "            worldview=play_info['worldview'],\n",
    "            sex=sex,\n",
    "        )\n",
    "    }\n",
    "]\n",
    "\n",
    "r = request_query(\n",
    "    messages,\n",
    "    model_type, \n",
    "        {\n",
    "            \"max_new_tokens\": 512,\n",
    "            \"eos_token_id\": [\n",
    "                tokenizer.eos_token_id,\n",
    "                tokenizer.convert_tokens_to_ids(\"<|eot_id|>\")\n",
    "            ],\n",
    "            \"do_sample\": True,\n",
    "            \"temperature\": 1,\n",
    "            \"top_p\": 0.8,\n",
    "            \"return_full_text\": False,\n",
    "        }\n",
    ")\n",
    "print(r)"
   ]
  },
  {
   "cell_type": "code",
   "execution_count": 32,
   "id": "c533616f-3607-4954-8999-440eba6ec4f7",
   "metadata": {},
   "outputs": [
    {
     "ename": "NameError",
     "evalue": "name 'user' is not defined",
     "output_type": "error",
     "traceback": [
      "\u001b[0;31m---------------------------------------------------------------------------\u001b[0m",
      "\u001b[0;31mNameError\u001b[0m                                 Traceback (most recent call last)",
      "Cell \u001b[0;32mIn[32], line 15\u001b[0m\n\u001b[1;32m      1\u001b[0m \u001b[38;5;66;03m# sex = input(\"유저의 성별['남성'/여성]: \")\u001b[39;00m\n\u001b[1;32m      2\u001b[0m \n\u001b[1;32m      3\u001b[0m \u001b[38;5;66;03m# def default_input(text, default):\u001b[39;00m\n\u001b[0;32m   (...)\u001b[0m\n\u001b[1;32m     12\u001b[0m \u001b[38;5;66;03m#         if default_input(\"입력한 정보로 이야기를 시작할까요? [Y/n]:\", \"y\").lower() == \"y\":\u001b[39;00m\n\u001b[1;32m     13\u001b[0m \u001b[38;5;66;03m#             break\u001b[39;00m\n\u001b[0;32m---> 15\u001b[0m play_info[\u001b[38;5;124m\"\u001b[39m\u001b[38;5;124muser_role\u001b[39m\u001b[38;5;124m\"\u001b[39m] \u001b[38;5;241m=\u001b[39m \u001b[43muser\u001b[49m\n\u001b[1;32m     16\u001b[0m play_info[\u001b[38;5;124m\"\u001b[39m\u001b[38;5;124muser_info\u001b[39m\u001b[38;5;124m\"\u001b[39m][\u001b[38;5;124m\"\u001b[39m\u001b[38;5;124muser_sex\u001b[39m\u001b[38;5;124m\"\u001b[39m] \u001b[38;5;241m=\u001b[39m sex\n\u001b[1;32m     17\u001b[0m play_info[\u001b[38;5;124m\"\u001b[39m\u001b[38;5;124muser_info\u001b[39m\u001b[38;5;124m\"\u001b[39m][\u001b[38;5;124m\"\u001b[39m\u001b[38;5;124mcurrent_location\u001b[39m\u001b[38;5;124m\"\u001b[39m] \u001b[38;5;241m=\u001b[39m loc\n",
      "\u001b[0;31mNameError\u001b[0m: name 'user' is not defined"
     ]
    }
   ],
   "source": [
    "# sex = input(\"유저의 성별['남성'/여성]: \")\n",
    "\n",
    "# def default_input(text, default):\n",
    "#     x = input(text)\n",
    "#     return default if x.strip() == \"\" else x\n",
    "\n",
    "# if default_input(\"유저 정보를 직접 입력하시겠습니까? [Y/n]: \", \"y\").lower() == \"y\":\n",
    "#     while True:\n",
    "#         user = input(\"유저는 어떤 인물인가요?: \")\n",
    "#         loc = input(\"유저의 현재 위치는?: \")\n",
    "#         start = input(\"이야기를 시작할 때의 상황을 30글자 미만으로 작성해주세요.: \")\n",
    "#         if default_input(\"입력한 정보로 이야기를 시작할까요? [Y/n]:\", \"y\").lower() == \"y\":\n",
    "#             break\n",
    "\n",
    "#     play_info[\"user_role\"] = user\n",
    "#     play_info[\"user_info\"][\"user_sex\"] = sex\n",
    "#     play_info[\"user_info\"][\"current_location\"] = loc\n",
    "#     play_info[\"user_info\"][\"prev_major_event\"] = [start]\n",
    "\n",
    "# else:\n",
    "#     while True:\n",
    "#         completion = openai.ChatCompletion.create(\n",
    "#             # engine=\"illunex-ai-gpt3\", \n",
    "#             engine=\"illunex-ai-gpt4-prompt\",\n",
    "#             messages = [\n",
    "#                 {\n",
    "#                     \"role\": \"system\", \n",
    "#                     \"content\": start_set_prompt.format(\n",
    "#                         worldview=play_info['worldview'],\n",
    "#                         sex=sex,\n",
    "#                     )\n",
    "#                 }\n",
    "#             ],\n",
    "#         )\n",
    "#         start_info = eval(completion.choices[0]['message']['content'])\n",
    "\n",
    "#         print(\"\\n유저는 '\" + start_info['user_role'] + \"' 입니다.\")\n",
    "#         print(\"유저의 현재 위치는 '\" + start_info['current_location'] + \"' 입니다.\")\n",
    "#         print(\"이야기를 시작할 때의 시점은 '\" + start_info['start_event'] + \"' 입니다.\")\n",
    "\n",
    "    \n",
    "#         if default_input(\"해당 정보로 이야기를 시작할까요? [Y/n]:\", \"y\").lower() == \"y\":\n",
    "#             break\n",
    "            \n",
    "#     play_info[\"user_role\"] = start_info['user_role']\n",
    "#     play_info[\"user_info\"][\"user_sex\"] = sex\n",
    "#     play_info[\"user_info\"][\"current_location\"] = start_info['current_location']\n",
    "#     play_info[\"user_info\"][\"prev_major_event\"] = [start_info['start_event']]"
   ]
  },
  {
   "cell_type": "markdown",
   "id": "e30aebe0-e38a-4f62-b80d-ef20f8635a41",
   "metadata": {},
   "source": [
    "# play"
   ]
  },
  {
   "cell_type": "code",
   "execution_count": 8,
   "id": "05ccb3e9-0153-4cde-a047-62e202bd8be4",
   "metadata": {
    "scrolled": true
   },
   "outputs": [
    {
     "name": "stdout",
     "output_type": "stream",
     "text": [
      "당신은 이제 막 새로운 게이트를 발견한 상태에서 주택가로 퇴장하였습니다. 당신은 사람들의 시선과 깜짝 놀란 모습을 보면서 이 사실을 깨닫습니다. 주변 상황을 둘러보니, 패닉에 빠진 사람들이 도망가고, 안전한 곳으로 대피하려는 모습을 볼 수 있습니다. 하지만 그 와중에도 차갑게 조용한 목소리가 당신의 귀에 들려오니, 그것은 아마도 게이트 관리본부로부터의 송출이 아닐까 싶습니다. 그들은 당신에게 '게이트 활성화 상황을 보고하라'고 요구하여 접근을 제한하고 있다.\n",
      "\n",
      "<행동 예시>\n",
      "1. 1. 게이트 관리본부에 현상황 보고하기\n",
      "2. 2. 민간인들 대피를 돕기\n",
      "3. 3. 주변을 한 바퀴 돌며 상황을 파악하기\n"
     ]
    },
    {
     "name": "stdin",
     "output_type": "stream",
     "text": [
      "\n",
      "나는...  잘 모르겠다며 두루뭉술하게 대답한다\n"
     ]
    },
    {
     "name": "stdout",
     "output_type": "stream",
     "text": [
      "\n",
      "당신은 무엇을 어떻게 해야 할지 모르겠다며 두루뭉술히 말했습니다. 관리본부로부터의 통신은 순식간에 끊어지고, 주변에서도 당황한 시선이 당신을 향해 있습니다. 이럴 때 적절한 판단을 내리지 못하면 상황은 더욱 심각해질 수 있습니다. 지금 당신에게 필요한 것은 긴장감을 내팽개치고 차분한 마음으로 상황을 진단하는 것입니다.\n",
      "\n",
      "<행동 예시>\n",
      "1. 1. 게이트 관리본부에 현상황 보고하기\n",
      "2. 2. 민간인들 대피를 돕기\n",
      "3. 3. 주변을 한 바퀴 돌며 상황을 파악하기\n"
     ]
    },
    {
     "name": "stdin",
     "output_type": "stream",
     "text": [
      "\n",
      "나는...  등교 중 정신을 차려보니 게이트가 있었다며, 정말 모르겠다고 확신을 담아 다시 말한다\n"
     ]
    },
    {
     "name": "stdout",
     "output_type": "stream",
     "text": [
      "\n",
      "당신은 '등교 중 정신을 차려보니 게이트가 있었는데, 정말 상황을 모른다'고 당당히 말합니다. 뜻밖에도 주변 사람들은 당신의 담담한 대처를 보며 안심하는 눈치입니다. 이제 당신의 몇 안되는 분간력을 믿고 당신을 따르려는 경우가 많습니다. 사람들의 시선은 당신을 주시하며 대체 어떤 행동을 취할지 기다리고 있습니다.\n",
      "\n",
      "<행동 예시>\n",
      "1. 1. 게이트 관리본부에 현상황 보고하기\n",
      "2. 2. 민간인들 대피를 돕기\n",
      "3. 3. 주변을 한 바퀴 돌며 상황을 파악하기\n"
     ]
    },
    {
     "name": "stdin",
     "output_type": "stream",
     "text": [
      "\n",
      "나는...  내가 할 수 있는 한 최선을 다해서 보고했으니 이제 가봐도 되냐고 묻는다\n"
     ]
    },
    {
     "name": "stdout",
     "output_type": "stream",
     "text": [
      "\n",
      "당신은 자신이 할 수 있는 한 최선을 다해 보고했음을 주장하며, 이제 가도 될지 묻습니다. 게이트 관리본부로부터는 잠시 답변이 없습니다. 그러나 조금 후에, 통신기에서 '선제적인 행동을 기대한다'는 응답이 들어옵니다. 게이트의 크기와 상태, 그리고 주변의 상황 등을 파악하는 것이 중요합니다. 아마도 이제는 당신에게 주어진 미션이 시작될 때인 것 같습니다.\n",
      "\n",
      "<행동 예시>\n",
      "1. 1. 게이트 크기와 상태 확인하기\n",
      "2. 2. 주변 상황과 민간인들 상태 확인하기\n",
      "3. 3. 더 안전한 지역으로 이동하기\n"
     ]
    },
    {
     "name": "stdin",
     "output_type": "stream",
     "text": [
      "\n",
      "나는...  돌아가는척 몰래 게이트로 잠입해 들어간다. 위험하겠지만 잘 하면 마력을 깨우칠 수 있지 않을까?\n"
     ]
    },
    {
     "name": "stdout",
     "output_type": "stream",
     "text": [
      "\n",
      "당신은 선뜻 돌아가는 척 하며 미처 게이트의 경계가 철저하지 않은 틈을 노려 몰래 게이트로 잠입합니다. 누구도 관찰하지 않는 틈을 이용해, 당신은 게이트를 통과합니다. 특별한 감각이 머릿속에 퍼져나가며 그런 감각은 처음이라 신기할 따름입니다. 사방은 어둡고, 앞이 잘 보이지 않지만 강한 희망감을 품고 앞으로 나아갑니다. '아마도 이건 마력을 깨우는 과정이 아닐까?' 하는 생각이 머릿속을 맴돌기 시작합니다.\n",
      "\n",
      "<행동 예시>\n",
      "1. 1. 주변을 탐색하며 마력을 깨우는 단서 찾기\n",
      "2. 2. 주변에 동료 혹은 도움이 될만한 것들이 있는지 찾아보기\n",
      "3. 3. 자신이 어디에 있는지 파악하기 위해 남은 통로를 따라가보기\n"
     ]
    },
    {
     "name": "stdin",
     "output_type": "stream",
     "text": [
      "\n",
      "나는...  경계를 소홀히 하지 않으며 주변을 탐색한다. 한편 감각을 잊지 않기 위해 계속 떠올린다\n"
     ]
    },
    {
     "name": "stdout",
     "output_type": "stream",
     "text": [
      "\n",
      "당신은 감각이 희미해지지 않도록 주의 깊게 주변을 탐색합니다. 새로운 이 경험이 낯설기는 해도, 차곡차곡 다가오는 감각을 천천히 받아들여 이상한 감각을 인지하려 노력합니다. 주의 깊게 살피다 보니, 앞쪽에서 어떤 희미한 빛이 보입니다. 게이트의 끝인지 아니면 다른 무언가인지는 알 수 없지만, 한 발짝 한 발짝 조심스레 앞으로 나아갑니다. 그러나 경로는 갈수록 복잡해지고, 방향을 잡기가 어려워집니다.\n",
      "\n",
      "<행동 예시>\n",
      "1. 1. 희미한 빛이 있는 곳으로 계속 나아가기\n",
      "2. 2. 방향을 잃지 않으려 잘 알아볼 만한 지표 찾기\n",
      "3. 3. 너무 진행하는 것이 위험하다 판단하고 방향을 뒤집어 게이트로 되돌아가기\n"
     ]
    },
    {
     "name": "stdin",
     "output_type": "stream",
     "text": [
      "\n",
      "나는...  뒤돌아 나갈 수 있는 길을 숙지하고, 자리에 앉는다. 더 진행이 어려우니 일단 감각에 좀 더 집중한다.\n"
     ]
    },
    {
     "name": "stdout",
     "output_type": "stream",
     "text": [
      "\n",
      "다른 선택 이전에, 당신은 안전한 장소에서 진정시키고, 뒤로 돌아가는 길을 다시 한번 숙지합니다. 무턱대고 이동하기보다 잠시 앉아서 주변을 제대로 인식하고, 그 중심에 당신의 존재를 느끼는 것이 중요합니다. 이곳에서 감각을 깨우기 위해 잠시나마 집중하고, 체험하는 시간을 가져보기로 결정했습니다. 어떻게 이런 상황이 벌어진 것인지는 모르겠지만, 이 곳에서 무언가를 얻어낼 수 있을 것 같아서입니다.\n",
      "\n",
      "<행동 예시>\n",
      "1. 1. 낯선 감각을 가만히 느껴보기\n",
      "2. 2. 마력이 느껴지는 방향을 찾기\n",
      "3. 3. 명상을 통해 집중력을 키우기\n"
     ]
    },
    {
     "name": "stdin",
     "output_type": "stream",
     "text": [
      "\n",
      "나는...  새로운 감각이 느껴지는대로 뭐든 해본다.\n"
     ]
    },
    {
     "name": "stdout",
     "output_type": "stream",
     "text": [
      "\n",
      "당신은 새로운 감각을 느끼면서 강한 흥미를 느낍니다. 당신은 그 감각이 불러오는 대로 행동하기로 결정하였습니다. 그것이 무엇인가 그림을 그리라는 것으로 느껴졌습니다. 감각이 지시하는 대로 당신은 지면 위에 손가락을 올려 무언가를 그리려고 합니다. 그 순간, 당신은 눈앞이 환해지며 강한 빛을 볼 수 있었습니다. 당신의 머리에서, 강렬한 힘이 체질 느낄 수 있었습니다. 무엇인가 새로운 것이 일어났음이 분명합니다.\n",
      "\n",
      "<행동 예시>\n",
      "1. 1. 다시 기억을 떠올려 무엇이 일어났는지를 다시 확인하기\n",
      "2. 2. 자신의 몸에 이상이 없는지 확인하기\n",
      "3. 3. 무슨 변화가 있었는지 느껴보기\n"
     ]
    },
    {
     "name": "stdin",
     "output_type": "stream",
     "text": [
      "\n",
      "나는...  뭐가 바뀌었나? 몸도 확인해보고 감각 등 새로 느껴지는건 없나 확인한다.\n"
     ]
    },
    {
     "name": "stdout",
     "output_type": "stream",
     "text": [
      "\n",
      "당신은 자신의 몸에 이상이 없는지 확인하려고 새로운 감각을 느낄 수 있는지 확인하려고 자신을 모니터링합니다. 당신의 팔과 다리, 심장박동, 눈의 건조함까지. 그러나 당신의 모든 것은 괜찮습니다. 단지, 본능은 당신에게 무언가가 바뀌었다고 말하고 있습니다. 당신은 그 무언가를 찾아내기 위해 깊은 숨을 쉬어 봅니다. 그럼에도 당신은 명확한 답을 얻지 못했습니다. 물론, 당신은 잠재력을 깨웠지만 그것이 무엇인지는 아직 알 수 없습니다.\n",
      "\n",
      "<행동 예시>\n",
      "1. 1. 다시 감각을 느껴보고 그것이 무엇인지 확인하기\n",
      "2. 2. 자신이 그린 그림을 확인하며 무슨 힌트가 있는지 찾아보기\n",
      "3. 3. 게이트를 찾아가서 새로운 힘을 테스트해보기\n"
     ]
    },
    {
     "name": "stdin",
     "output_type": "stream",
     "text": [
      "\n",
      "나는...  아까처럼 뭔가를 그려보자. 심상으로든 손가락으로 뭔가를 그리든, 아까 느꼈던 감각을 다시 복구해본다.\n"
     ]
    },
    {
     "name": "stdout",
     "output_type": "stream",
     "text": [
      "\n",
      "당신은 다시 한번 손가락을 지면에 대고 그리기 시작합니다. 집중하기 시작하면서 천천히 마력이 전해지는 것을 느낍니다. 무언가 모양이 실루엣처럼 보이기 시작하고, 그것이 자리를 잡아가는 것을 느낄 수 있습니다. 끝내, 실체가 모두 나타났을 때의 감각은 전에 없이 강렬했습니다. 눈앞에 펼쳐진 것은 아름다운 별자리 형상이었습니다. 갑자기 주변이 환해지며, 크고 밝은 별들이 빛을 발하며 당신을 보호하고 있는 것처럼 느껴집니다.\n",
      "\n",
      "<행동 예시>\n",
      "1. 1. 별자리 그림을 자세히 본다\n",
      "2. 2. 마력이 전해지는 감각에 집중해 무슨 능력인지 파악한다\n",
      "3. 3. 현재 상태를 게이트 관리본부에 보고한다\n"
     ]
    },
    {
     "name": "stdin",
     "output_type": "stream",
     "text": [
      "\n",
      "나는...  내가 알고있는 별자리인가? 느껴지는 건 없는지, 어떤 감각을 느끼는지 하나하나 체크해본다.\n"
     ]
    },
    {
     "name": "stdout",
     "output_type": "stream",
     "text": [
      "\n",
      "당신은 별자리가 무엇인지 확인하려고 시도하고, 다시 한 번 느껴지는 감각을 체크하기 시작합니다. 그 별자리는 당신이 알고 있는 것 중 어느 것과도 닮지 않은 새로운 형태입니다. 별자리는 끊임없이 섬광을 뿜으며 당신을 보호하는 듯한 강한 빛을 발산하고 있습니다. 또한, 그 빛을 통해 새로운 전율과 지문으로 이루어진 두근거림을 느낄 수 있었습니다. 그것은 마법의 카탈리스트처럼 느껴지며, 마치 당신이 별자리와 통하는 듯한 감각을 주었습니다.\n",
      "\n",
      "<행동 예시>\n",
      "1. 1. 별자리에 손을 대봐서 변경된 감각을 느껴본다\n",
      "2. 2. 본능적으로 별자리의 상호작용을 촉진시켜 본다\n",
      "3. 3. 별자리가 생성된 이유나 용도를 짐작해 본다\n"
     ]
    },
    {
     "name": "stdin",
     "output_type": "stream",
     "text": [
      "\n",
      "나는...  별자리로 무엇을 할 수 있을까? 손을 대보거나 느껴지는건 없나 확인한다.\n"
     ]
    },
    {
     "name": "stdout",
     "output_type": "stream",
     "text": [
      "\n",
      "당신은 별자리에 손을 대봐서 무엇을 할 수 있을지, 그리고 어떤 감각이 느껴지는지 확인해봅니다. 그 순간, 당신의 손끝이 별자리에 닿자 바로 강력한 신호가 당신의 신경계를 통해 전달됩니다. 그것은 마치 전기충격과도 같았지만, 동시에 당신에게 새로운 힘과 정보를 전달하고 있다는 것을 느낄 수 있었습니다. 마치 별자리가 당신의 힘의 원천이 되어, 의지에 따라 다르게 작용할 수 있음을 느꼈습니다.\n",
      "\n",
      "<행동 예시>\n",
      "1. 1. 별자리에 의지를 집중해보며 그 힘을 느껴본다\n",
      "2. 2. 경험해본 적 없는 신체 감각을 추적해 본다\n",
      "3. 3. 새롭게 생긴 힘을 실험해 보기 위해 게이트를 탈출한다\n"
     ]
    },
    {
     "name": "stdin",
     "output_type": "stream",
     "text": [
      "\n",
      "나는...  마침 아무도 없겠다, 여기서 별자리의 힘을 테스트해본다\n"
     ]
    },
    {
     "name": "stdout",
     "output_type": "stream",
     "text": [
      "\n",
      "당신은 주변에 아무도 없으므로, 여기서 별자리의 힘을 테스트하기로 결정합니다. 먼저, 별자리의 움직임을 제어하려는 노력이 전혀 효과가 없나 확인하기 위해 의식을 집중합니다. 그러자 별자리가 당신의 의지에 따라 움직이고, 반응하며 변화하는 것을 느낄 수 있습니다. 특히 가득 찬 별의 빛이 더욱 밝아지며, 확실하게 당신을 보호하고 있는 것 같습니다.\n",
      "\n",
      "<행동 예시>\n",
      "1. 1. 별자리의 빛을 주변 공간에 비춰 작용시킨다\n",
      "2. 2. 별자리를 조종해 더 밝게 만들어본다\n",
      "3. 3. 별자리의 별빛을 한 점으로 모아 주변을 탐색해본다\n"
     ]
    },
    {
     "name": "stdin",
     "output_type": "stream",
     "text": [
      "\n",
      "나는...  보호 능력 말고는 다른 능력은 없을까? 별들을 일렬로 늘어놓아 채찍이나 검처럼 휘둘러본다\n"
     ]
    },
    {
     "name": "stdout",
     "output_type": "stream",
     "text": [
      "\n",
      "당신은 별자리가 다른 능력을 가지고 있을 수 있는지 궁금해하며, 별들을 일렬로 늘어놓아 보기로 결정했습니다. 별자리의 별들을 마치 채찍처럼 휘두르면서, 빛의 강도와 방향을 변화시켜 보았습니다. 그 빛의 흐름을 따라가보니, 갈 곳을 마음대로 지정할 수 있는 것 같았습니다. 이런 발견은 새로운 가능성을 열어줍니다.\n",
      "\n",
      "<행동 예시>\n",
      "1. 1. 별자리의 별들을 통해 더 큰 빛의 공격을 시도해본다\n",
      "2. 2. 다시 별자리의 별들을 일렬로 늘어놓아 보호막으로 만들어본다\n",
      "3. 3. 게이트에 돌아가 새로운 능력을 보여주며 상황을 보고한다\n"
     ]
    },
    {
     "name": "stdin",
     "output_type": "stream",
     "text": [
      "\n",
      "나는...  마지막으로 벽이나 바닥에 휘둘러서 물리적이나 마법적인 효과가 있는지 확인하고, 감각을 풀어 별자리가 사라지게 한다.\n"
     ]
    },
    {
     "name": "stdout",
     "output_type": "stream",
     "text": [
      "\n",
      "당신은 마지막으로 별자리를 벽이나 바닥에 휘두르며 그 물리적이나 마법적인 효과가 있는지 확인해봅니다. 별빛이 휘둘릴 때마다 강력한 빛과 에너지가 주변에 퍼져나가며, 그 힘이 닫힌 공간을 밝게 만들어주는 것을 볼 수 있습니다. 이런 발견은 당신에게 별자리의 새로운 가능성을 보여줍니다. 이제 별자리가 사라질 때, 그 마법이 풀리며 서서히 사라지는 것을 볼 수 있습니다.\n",
      "\n",
      "<행동 예시>\n",
      "1. 1. 게이트를 돌아가 새로운 능력을 사용하는 것을 보여주며 상황을 보고한다\n",
      "2. 2. 벽에 남은 마법적인 표식을 확인한다\n",
      "3. 3. 새로운 능력을 기록하고 이를 다시 활성화하는 방법을 연구한다\n"
     ]
    },
    {
     "name": "stdin",
     "output_type": "stream",
     "text": [
      "\n",
      "나는...  별자리를 사용하며 체력이나 정신력 등 소모되는 자원이 없는지 상태를 확인한다.\n"
     ]
    },
    {
     "name": "stdout",
     "output_type": "stream",
     "text": [
      "\n",
      "당신은 별자리 사용과 관련된 체력이나 정신력 등 자원의 소모를 확인하기 원합니다. 하지만 별자리를 사용하면서 그 어떠한 체력이나 정신력 등이 손실되거나 감소된 것은 전혀 느낄 수 없습니다. 대신 어떤 신선한 에너지를 제공하는 느낌도 받았습니다. 그것은 마치 별자리가 당신에게 기력을 주입하는 것처럼 느껴졌습니다.\n",
      "\n",
      "<행동 예시>\n",
      "1. 1. 결정된 사항이므로 마침내 사라진 게이트로 되돌아가 본부에 보고한다\n",
      "2. 2. 더 깊이 들어가던지 다른 실험을 해보기로 결정한다\n",
      "3. 3. 별자리를 다시 활성화시키고 그 힘을 느껴본다\n"
     ]
    },
    {
     "name": "stdin",
     "output_type": "stream",
     "text": [
      "\n",
      "나는...  별자리의 활성화와 비활성화를 반복하며 힘의 사용에 익숙해진다.\n"
     ]
    },
    {
     "name": "stdout",
     "output_type": "stream",
     "text": [
      "\n",
      "당신은 별자리의 활성화와 비활성화를 반복하며 이 힘의 사용에 점점 익숙해집니다. 처음에는 낯선 느낌이었지만, 이제는 별자리를 사용할 때 발생하는 에너지 흐름이나 변화의 패턴을 체계적으로 이해하고 있습니다. 당신은 이 힘에 대한 익숙함을 바탕으로, 신속하고 정확하게 별자리를 활성화하고 비활성화할 수 있게 됩니다.\n",
      "\n",
      "<행동 예시>\n",
      "1. 1. 더욱 다양한 별자리의 능력을 실험해본다\n",
      "2. 2. 이제까지의 변화를 게이트 관리본부에 보고한다\n",
      "3. 3. 별자리를 활용해 이전에 탐색하지 못했던 곳을 찾아본다\n"
     ]
    },
    {
     "name": "stdin",
     "output_type": "stream",
     "text": [
      "\n",
      "나는...  다시 게이트 밖으로 나간다. 들어왔을 때처럼 몰래 나간다. 다음에 다시 와보자.\n"
     ]
    },
    {
     "name": "stdout",
     "output_type": "stream",
     "text": [
      "\n",
      "당신은 이제 그 충분한 훈련을 받았고, 별자리의 힘이 어떻게 작용하는지 어느 정도 이해했다고 판단합니다. 따라서 당신은 다시 게이트 밖으로 나가기로 결정합니다. 들어왔을 때처럼 조심스럽게 게이트를 나아가고, 거리에서 눈치를 채는 사람이 없도록 나서자, 거리는 밝아져 있었습니다. 주변 사람들을 안전한 곳으로 이동시키고, 여전히 게이트가 안정적으로 유지되는지 확인할 필요가 있습니다.\n",
      "\n",
      "<행동 예시>\n",
      "1. 1. 게이트 관리본부에 게이트 상황을 보고하기\n",
      "2. 2. 이곳을 떠나 다른 지역으로 이동하기\n",
      "3. 3. 주변의 변화를 둘러보기\n"
     ]
    },
    {
     "name": "stdin",
     "output_type": "stream",
     "text": [
      "\n",
      "나는...  많이 늦긴 했지만 다시 학교로 가서 일상을 보낸다. 게이트 사건에 휘말려 조사받았다고 둘러대자.\n"
     ]
    },
    {
     "name": "stdout",
     "output_type": "stream",
     "text": [
      "\n",
      " == regenerate == \n",
      " == regenerate == \n",
      " == regenerate == \n",
      " == regenerate == \n",
      "당신은 사실 상당히 늦어지긴 했지만 다시 학교로 가기로 결정했습니다. 몇 시간동안의 모험 끝에 당신은 게이트 사건에 휘말려 조사를 받았다는 이야기로 친구들에게 사활을 던지기로 했습니다. 아마도 당신의 늦장에 대해 누구도 반박하지 못할 것입니다. 게이트를 통해 겪은 이 모든 것에 대해 숨긴 채 말이죠. 이제 당신은 다시 일상으로 돌아가며, 오늘 있었던 모든 일을 잠시 잊어보려 합니다.\n"
     ]
    }
   ],
   "source": [
    "prompt = base_prompt.format(worldview=worldview, user_info=play_info['user_info'])\n",
    "# print(prompt)\n",
    "messages = [\n",
    "    {\"role\": \"system\", \"content\": prompt}\n",
    "]\n",
    "\n",
    "while True:\n",
    "    # completion = openai.ChatCompletion.create(\n",
    "    #     # engine=\"illunex-ai-gpt3\", \n",
    "    #     engine=\"illunex-ai-gpt4-prompt\",\n",
    "    #     messages=messages,\n",
    "    # )\n",
    "    # result = completion.choices[0]['message']['content']\n",
    "    text = tokenizer.apply_chat_template(messages, tokenize=False)\n",
    "    \n",
    "    \n",
    "    try:\n",
    "        result = eval(result)\n",
    "    except:\n",
    "        try:\n",
    "            result = json.loads(result)\n",
    "        except:\n",
    "            print(\" == regenerate == \")\n",
    "            continue\n",
    "            \n",
    "    messages.append({\"role\": \"assistant\", \"content\": str(result)})\n",
    "    \n",
    "    \n",
    "    print(result['context'])\n",
    "\n",
    "    if result['is_end']:\n",
    "        break\n",
    "    \n",
    "    print('\\n<행동 예시>')\n",
    "    for i, action in enumerate(result['example_actions']):\n",
    "        print(f\"{i + 1}. {action}\")\n",
    "\n",
    "    user_action = input(\"\\n나는... \")\n",
    "    messages.append({\"role\": \"user\", \"content\": str({\"action\": user_action})})\n",
    "    print()"
   ]
  },
  {
   "cell_type": "markdown",
   "id": "a9179d6c-9e27-428d-8a28-ae9c0ad76360",
   "metadata": {},
   "source": [
    "## after processing"
   ]
  },
  {
   "cell_type": "code",
   "execution_count": 9,
   "id": "68f374b4-1a6a-49ec-8ff1-73b40e65464f",
   "metadata": {},
   "outputs": [],
   "source": [
    "story_context = \"\"\n",
    "for m in messages[1:]:\n",
    "    content = eval(m['content'])\n",
    "    if m['role'] == \"assistant\":\n",
    "        story_context += \"이야기꾼: \" + content['context'] + \"\\n\\n\"\n",
    "    elif m['role'] == \"user\":\n",
    "        story_context += \"유저: \" + content['action'] + \"\\n\\n\""
   ]
  },
  {
   "cell_type": "code",
   "execution_count": 10,
   "id": "d55bfc51-0e18-422d-a3ed-8e6a68791e44",
   "metadata": {},
   "outputs": [
    {
     "data": {
      "text/plain": [
       "{'user_sex': '여성',\n",
       " 'current_location': '도시의 주택가',\n",
       " 'prev_major_event': ['주인공이 게이트를 처음 발견하며 이의 깊숙히 들어감',\n",
       "  '별자리 형상의 마력을 찾고, 이를 이용해 공격과 방어, 그리고 턴을 적응할 수 있음을 확인한다.'],\n",
       " 'hp': 100,\n",
       " 'mental': 100,\n",
       " 'max_hp': 100,\n",
       " 'max_mental': 100,\n",
       " 'skills': [],\n",
       " 'items': [],\n",
       " 'companion': []}"
      ]
     },
     "execution_count": 10,
     "metadata": {},
     "output_type": "execute_result"
    }
   ],
   "source": [
    "prompt = summary_prompt.format(story_context=story_context)\n",
    "completion = openai.ChatCompletion.create(\n",
    "    # engine=\"illunex-ai-gpt3\", \n",
    "    engine=\"illunex-ai-gpt4-prompt\",\n",
    "    messages=[{\"role\": \"system\", \"content\": prompt}],\n",
    ")\n",
    "result = completion.choices[0]['message']['content']\n",
    "result = eval(result)\n",
    "\n",
    "play_info['user_info']['prev_major_event'].append(result['summary'])\n",
    "\n",
    "play_info['user_info']"
   ]
  },
  {
   "cell_type": "code",
   "execution_count": 11,
   "id": "dbf1329c-45c0-466a-983b-229dd1a43262",
   "metadata": {},
   "outputs": [
    {
     "data": {
      "text/plain": [
       "{'user_sex': '여성',\n",
       " 'current_location': '학교',\n",
       " 'prev_major_event': ['주인공이 게이트를 처음 발견하며 이의 깊숙히 들어감',\n",
       "  '별자리 형상의 마력을 찾고, 이를 이용해 공격과 방어, 그리고 턴을 적응할 수 있음을 확인한다.'],\n",
       " 'hp': 100,\n",
       " 'mental': 100,\n",
       " 'max_hp': 100,\n",
       " 'max_mental': 100,\n",
       " 'skills': ['별자리의 힘'],\n",
       " 'items': [],\n",
       " 'companion': []}"
      ]
     },
     "execution_count": 11,
     "metadata": {},
     "output_type": "execute_result"
    }
   ],
   "source": [
    "prompt = state_update_prompt.format(user_info=play_info['user_info'], story_context=story_context)\n",
    "completion = openai.ChatCompletion.create(\n",
    "    # engine=\"illunex-ai-gpt3\", \n",
    "    engine=\"illunex-ai-gpt4-prompt\",\n",
    "    messages=[{\"role\": \"system\", \"content\": prompt}],\n",
    ")\n",
    "result = completion.choices[0]['message']['content']\n",
    "result = eval(result)\n",
    "\n",
    "\n",
    "play_info['user_info']['current_location'] = result['current_location']\n",
    "play_info['user_info']['max_hp'] = result['max_hp']\n",
    "play_info['user_info']['max_mental'] = result['max_mental']\n",
    "play_info['user_info']['hp'] = min(result['hp'], play_info['user_info']['max_hp'])\n",
    "play_info['user_info']['mental'] = min(result['mental'], play_info['user_info']['max_mental'])\n",
    "play_info['user_info']['skills'] = result['skills']\n",
    "play_info['user_info']['items'] = result['items']\n",
    "play_info['user_info']['companion'] = result['companion']\n",
    "\n",
    "play_info['user_info']"
   ]
  },
  {
   "cell_type": "code",
   "execution_count": 12,
   "id": "2784bd68-7524-4a73-bf2b-cf5b08c2c34e",
   "metadata": {},
   "outputs": [],
   "source": [
    "save_checkpoint()"
   ]
  }
 ],
 "metadata": {
  "kernelspec": {
   "display_name": "Python 3 (ipykernel)",
   "language": "python",
   "name": "python3"
  },
  "language_info": {
   "codemirror_mode": {
    "name": "ipython",
    "version": 3
   },
   "file_extension": ".py",
   "mimetype": "text/x-python",
   "name": "python",
   "nbconvert_exporter": "python",
   "pygments_lexer": "ipython3",
   "version": "3.10.13"
  }
 },
 "nbformat": 4,
 "nbformat_minor": 5
}
