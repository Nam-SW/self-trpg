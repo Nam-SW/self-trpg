{
 "cells": [
  {
   "cell_type": "markdown",
   "id": "328666c1-0268-4427-afc9-0fb28fe534e7",
   "metadata": {},
   "source": [
    "# env setup"
   ]
  },
  {
   "cell_type": "markdown",
   "id": "b6464d72-7ba9-479c-b737-1212d55b133f",
   "metadata": {},
   "source": [
    "## import"
   ]
  },
  {
   "cell_type": "code",
   "execution_count": 1,
   "id": "d8012e14-4577-441c-a784-20e25f90fb7a",
   "metadata": {},
   "outputs": [],
   "source": [
    "from agents.screenwriter import screenwriter\n",
    "from agents.role_manager import role_manager\n",
    "\n",
    "from utils.user_info import get_new_user"
   ]
  },
  {
   "cell_type": "markdown",
   "id": "216138f3-96b5-40a1-b303-f4644fe7654b",
   "metadata": {},
   "source": [
    "# story setup"
   ]
  },
  {
   "cell_type": "markdown",
   "id": "c5127cab-3eb1-432c-9722-3d6e3cfa9405",
   "metadata": {},
   "source": [
    "## set theme, worldview"
   ]
  },
  {
   "cell_type": "code",
   "execution_count": 5,
   "id": "3545f945-0919-4b4d-84bc-6eba15b10000",
   "metadata": {},
   "outputs": [
    {
     "name": "stdout",
     "output_type": "stream",
     "text": [
      "\n",
      "**세계관 테마**: 좀비(강시) 아포칼립스\n",
      "\n",
      "**지형 및 지리 설명**:\n",
      "고려 중기의 한반도를 배경으로 하며, 주요 지역은 수도 개경(현 개성), 주요 군사 요충지, 농촌 지역, 그리고 산악 지대이다. 수도는 높은 성벽과 강력한 방어 시스템을 갖추고 있지만, 외곽 지역은 좀비(강시)의 출몰로 인해 혼란에 빠져 있다.\n",
      "\n",
      "**세력관계**:\n",
      "1. **왕궁 세력**: 왕족과 그들을 지키는 친위대가 주축이다. 왕궁 내에서는 좀비(강시)에 대한 연구와 저항 방법을 모색하고 있다.\n",
      "2. **군사 세력**: 각 지역의 군사 요충지를 지키며, 좀비(강시)의 확산을 막기 위해 고군분투하고 있다. 화약을 이용한 무기 개발에 집중하고 있다.\n",
      "3. **농촌 세력**: 생존을 위해 자급자족하며, 각 지역의 주민들이 생존을 위해 협력하고 있다. 왕궁과 군사 세력의 보호를 받지 못하는 경우가 많다.\n",
      "4. **좀비(강시) 세력**: 전염병으로 변이된 좀비(강시)들이 한반도 전역에 퍼져 있다. 이들은 무작위로 출몰하며, 인류 생존을 위협한다.\n",
      "\n",
      "**핵심 인물**:\n",
      "1. **왕(고려 중기)**: 고려 왕조의 수장으로, 왕궁 내에서 좀비(강시)에 대한 대책을 세우고 있다.\n",
      "2. **왕족**: 왕의 직계 가족들로, 왕궁 내에서 생존과 저항의 중심에 서 있다.\n",
      "3. **장군**: 각 지역의 군사 요충지를 지휘하며, 화약을 이용한 무기를 개발하고 좀비(강시)와의 전투를 이끌고 있다.\n",
      "4. **의사**: 왕궁 내에서 좀비(강시)에 대한 연구를 주도하며, 치료법과 저항 방법을 모색하고 있다.\n",
      "\n",
      "**주요 흐름**:\n",
      "1. **좀비(강시) 발생**: 알 수 없는 전염병으로 인해 사람들이 좀비(강시)로 변이하기 시작함.\n",
      "2. **왕궁의 대응**: 왕궁 내에서 좀비(강시)에 대한 연구와 저항 방법을 모색하며, 화약을 이용한 무기 개발을 추진.\n",
      "3. **군사 요충지 방어**: 각 지역의 군사 요충지에서 좀비(강시)의 확산을 막기 위해 방어선을 구축하고, 주민들을 보호함.\n",
      "4. **농촌 생존**: 농촌 지역의 주민들이 자급자족하며 생존을 위해 협력하고, 좀비(강시)와 싸우며 생존을 모색함."
     ]
    }
   ],
   "source": [
    "# main_theme = input(\"메인 테마: \")\n",
    "# keywords = input(\"키워드: \")\n",
    "main_theme = \"좀비(강시) 아포칼립스\"\n",
    "keywords = \"고려 중기, 화약, 왕궁, 왕족\"\n",
    "print()\n",
    "\n",
    "gen = screenwriter.stream({\"theme\": main_theme, \"keywords\": keywords})\n",
    "\n",
    "worldview = \"\"\n",
    "for chunk in gen:\n",
    "    worldview += chunk\n",
    "    print(chunk, end=\"\")"
   ]
  },
  {
   "cell_type": "code",
   "execution_count": 11,
   "id": "8110c21e-6a71-43b2-8c7b-3c65a32d3c26",
   "metadata": {},
   "outputs": [
    {
     "name": "stdout",
     "output_type": "stream",
     "text": [
      "성별: 여성\n",
      "역할: 농촌에서 온 창녀\n",
      "위치: 개경 외곽, 황폐한 마을\n",
      "현재 체력: 30\n",
      "현재 정신력: 50\n",
      "최대 체력: 60\n",
      "최대 정신력: 70\n",
      "특성: ['멍청함', '더러움', '느림', '상시발정']\n",
      "보유 기술: ['자위기구 사용']\n",
      "보유 아이템: ['자위기구', '낡은 옷']\n",
      "시작 이야기: 황폐한 마을에서 먹을 것을 찾던 중, 강시들이 나타나기 시작한다.\n"
     ]
    }
   ],
   "source": [
    "sex = \"여성\"\n",
    "charactor_keywords = \"멍청함, 더러움, 느림, 창녀, 상시발정, 자위기구\"\n",
    "result = role_manager.invoke({\"worldview\": worldview, \"charactor_keywords\": charactor_keywords, \"sex\": sex})\n",
    "# print(result)\n",
    "\n",
    "start_info = eval(result)\n",
    "start_info['sex'] = sex\n",
    "\n",
    "\n",
    "print(\"성별:\", start_info[\"sex\"])\n",
    "print(\"역할:\", start_info[\"role\"])\n",
    "print(\"위치:\", start_info[\"location\"])\n",
    "print(\"현재 체력:\", start_info[\"hp\"])\n",
    "print(\"현재 정신력:\", start_info[\"mental\"])\n",
    "print(\"최대 체력:\", start_info[\"max_hp\"])\n",
    "print(\"최대 정신력:\", start_info[\"max_mental\"])\n",
    "print(\"특성:\", start_info[\"characteristics\"])\n",
    "print(\"보유 기술:\", start_info[\"skills\"])\n",
    "print(\"보유 아이템:\", start_info[\"inventory\"])\n",
    "print(\"시작 이야기:\", start_info[\"start_event\"])"
   ]
  },
  {
   "cell_type": "markdown",
   "id": "e30aebe0-e38a-4f62-b80d-ef20f8635a41",
   "metadata": {},
   "source": [
    "# play"
   ]
  }
 ],
 "metadata": {
  "kernelspec": {
   "display_name": "Python 3 (ipykernel)",
   "language": "python",
   "name": "python3"
  },
  "language_info": {
   "codemirror_mode": {
    "name": "ipython",
    "version": 3
   },
   "file_extension": ".py",
   "mimetype": "text/x-python",
   "name": "python",
   "nbconvert_exporter": "python",
   "pygments_lexer": "ipython3",
   "version": "3.10.13"
  }
 },
 "nbformat": 4,
 "nbformat_minor": 5
}
